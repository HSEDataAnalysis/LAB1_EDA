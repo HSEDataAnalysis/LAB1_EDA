{
 "cells": [
  {
   "cell_type": "code",
   "execution_count": 20,
   "id": "734d09d2-8310-4c27-b979-89196636d06b",
   "metadata": {},
   "outputs": [],
   "source": [
    "import pandas as pd\n",
    "import missingno as msno\n",
    "%matplotlib inline"
   ]
  },
  {
   "cell_type": "code",
   "execution_count": 21,
   "id": "40b8482b-cafd-44cf-bbd1-2df02d92cd4d",
   "metadata": {},
   "outputs": [],
   "source": [
    "df = pd.read_excel('data/data.xlsx', \n",
    "                   header=None,\n",
    "                   names=[f'feature{i}' for i in range(1,6)])"
   ]
  },
  {
   "cell_type": "code",
   "execution_count": 22,
   "id": "c73f9299-1417-4ff0-95c9-98fcc8f97e43",
   "metadata": {},
   "outputs": [
    {
     "data": {
      "text/html": [
       "<div>\n",
       "<style scoped>\n",
       "    .dataframe tbody tr th:only-of-type {\n",
       "        vertical-align: middle;\n",
       "    }\n",
       "\n",
       "    .dataframe tbody tr th {\n",
       "        vertical-align: top;\n",
       "    }\n",
       "\n",
       "    .dataframe thead th {\n",
       "        text-align: right;\n",
       "    }\n",
       "</style>\n",
       "<table border=\"1\" class=\"dataframe\">\n",
       "  <thead>\n",
       "    <tr style=\"text-align: right;\">\n",
       "      <th></th>\n",
       "      <th>feature1</th>\n",
       "      <th>feature2</th>\n",
       "      <th>feature3</th>\n",
       "      <th>feature4</th>\n",
       "      <th>feature5</th>\n",
       "    </tr>\n",
       "  </thead>\n",
       "  <tbody>\n",
       "    <tr>\n",
       "      <th>0</th>\n",
       "      <td>1.117915</td>\n",
       "      <td>-2.065559</td>\n",
       "      <td>NaN</td>\n",
       "      <td>-1.362986</td>\n",
       "      <td>-0.709196</td>\n",
       "    </tr>\n",
       "    <tr>\n",
       "      <th>1</th>\n",
       "      <td>-0.503055</td>\n",
       "      <td>-2.892927</td>\n",
       "      <td>0.713895</td>\n",
       "      <td>-1.631237</td>\n",
       "      <td>-1.790220</td>\n",
       "    </tr>\n",
       "    <tr>\n",
       "      <th>2</th>\n",
       "      <td>NaN</td>\n",
       "      <td>-0.077614</td>\n",
       "      <td>0.772394</td>\n",
       "      <td>-1.500325</td>\n",
       "      <td>-0.164499</td>\n",
       "    </tr>\n",
       "    <tr>\n",
       "      <th>3</th>\n",
       "      <td>1.163245</td>\n",
       "      <td>1.046673</td>\n",
       "      <td>1.674523</td>\n",
       "      <td>-1.867193</td>\n",
       "      <td>-0.534950</td>\n",
       "    </tr>\n",
       "    <tr>\n",
       "      <th>4</th>\n",
       "      <td>0.185329</td>\n",
       "      <td>-2.824514</td>\n",
       "      <td>2.036840</td>\n",
       "      <td>-2.040093</td>\n",
       "      <td>NaN</td>\n",
       "    </tr>\n",
       "  </tbody>\n",
       "</table>\n",
       "</div>"
      ],
      "text/plain": [
       "   feature1  feature2  feature3  feature4  feature5\n",
       "0  1.117915 -2.065559       NaN -1.362986 -0.709196\n",
       "1 -0.503055 -2.892927  0.713895 -1.631237 -1.790220\n",
       "2       NaN -0.077614  0.772394 -1.500325 -0.164499\n",
       "3  1.163245  1.046673  1.674523 -1.867193 -0.534950\n",
       "4  0.185329 -2.824514  2.036840 -2.040093       NaN"
      ]
     },
     "execution_count": 22,
     "metadata": {},
     "output_type": "execute_result"
    }
   ],
   "source": [
    "df.head()"
   ]
  },
  {
   "cell_type": "markdown",
   "id": "798f8f15-6771-4236-873b-6a3ceaa89cbd",
   "metadata": {},
   "source": [
    "###  Missing Values Analysis"
   ]
  },
  {
   "cell_type": "markdown",
   "id": "c29f2dc7-59fa-43ff-a35a-203ab5e3e980",
   "metadata": {},
   "source": [
    "Usually missing data problems areclassified  into three categories. We'll try to categorize the missing values in our data."
   ]
  },
  {
   "cell_type": "markdown",
   "id": "14ddc882-c3e9-4262-b12d-1a666bbcab3d",
   "metadata": {},
   "source": [
    "![Missin Values Types](img/missing_types.jpg)"
   ]
  },
  {
   "cell_type": "code",
   "execution_count": 23,
   "id": "0eb7257a-0954-4cff-b8d7-6b2114adec4d",
   "metadata": {},
   "outputs": [],
   "source": [
    "def missing_values_table(df):\n",
    "    # Total missing values\n",
    "    mis_val = df.isnull().sum()\n",
    "\n",
    "    # Percentage of missing values\n",
    "    mis_val_percent = 100 * df.isnull().sum() / len(df)\n",
    "\n",
    "    # Make a table with the results\n",
    "    mis_val_table = pd.concat([mis_val, mis_val_percent], axis=1)\n",
    "\n",
    "    # Rename the columns\n",
    "    mis_val_table_ren_columns = mis_val_table.rename(\n",
    "    columns = {0 : 'Missing Values Amount ', 1 : 'Percent of Total Values'})\n",
    "\n",
    "    # Sort the table by percentage of missing descending\n",
    "    mis_val_table_ren_columns = mis_val_table_ren_columns[\n",
    "        mis_val_table_ren_columns.iloc[:,1] != 0].sort_values(\n",
    "    'Percent of Total Values', ascending=False).round(1)\n",
    "\n",
    "    return mis_val_table_ren_columns"
   ]
  },
  {
   "cell_type": "code",
   "execution_count": 24,
   "id": "5ae0d28d-6804-4ab3-824a-b2efbeff6dac",
   "metadata": {},
   "outputs": [
    {
     "data": {
      "text/html": [
       "<div>\n",
       "<style scoped>\n",
       "    .dataframe tbody tr th:only-of-type {\n",
       "        vertical-align: middle;\n",
       "    }\n",
       "\n",
       "    .dataframe tbody tr th {\n",
       "        vertical-align: top;\n",
       "    }\n",
       "\n",
       "    .dataframe thead th {\n",
       "        text-align: right;\n",
       "    }\n",
       "</style>\n",
       "<table border=\"1\" class=\"dataframe\">\n",
       "  <thead>\n",
       "    <tr style=\"text-align: right;\">\n",
       "      <th></th>\n",
       "      <th>Missing Values Amount</th>\n",
       "      <th>Percent of Total Values</th>\n",
       "    </tr>\n",
       "  </thead>\n",
       "  <tbody>\n",
       "    <tr>\n",
       "      <th>feature1</th>\n",
       "      <td>5</td>\n",
       "      <td>10.0</td>\n",
       "    </tr>\n",
       "    <tr>\n",
       "      <th>feature3</th>\n",
       "      <td>5</td>\n",
       "      <td>10.0</td>\n",
       "    </tr>\n",
       "    <tr>\n",
       "      <th>feature5</th>\n",
       "      <td>5</td>\n",
       "      <td>10.0</td>\n",
       "    </tr>\n",
       "    <tr>\n",
       "      <th>feature2</th>\n",
       "      <td>4</td>\n",
       "      <td>8.0</td>\n",
       "    </tr>\n",
       "    <tr>\n",
       "      <th>feature4</th>\n",
       "      <td>3</td>\n",
       "      <td>6.0</td>\n",
       "    </tr>\n",
       "  </tbody>\n",
       "</table>\n",
       "</div>"
      ],
      "text/plain": [
       "          Missing Values Amount   Percent of Total Values\n",
       "feature1                       5                     10.0\n",
       "feature3                       5                     10.0\n",
       "feature5                       5                     10.0\n",
       "feature2                       4                      8.0\n",
       "feature4                       3                      6.0"
      ]
     },
     "execution_count": 24,
     "metadata": {},
     "output_type": "execute_result"
    }
   ],
   "source": [
    "missing_values_table(df)"
   ]
  },
  {
   "cell_type": "markdown",
   "id": "86ce8669-8254-4d6c-9dfd-5182de96ac10",
   "metadata": {},
   "source": [
    "#### Tools"
   ]
  },
  {
   "cell_type": "markdown",
   "id": "739aac53-d288-4474-9ea6-c5090f7b3127",
   "metadata": {},
   "source": [
    "! For better understanding of missing values patterns, we will use the [missingno](https://github.com/ResidentMario/missingno) library which allows us to get a quick visual summary of the completeness of our data."
   ]
  },
  {
   "cell_type": "markdown",
   "id": "ba059f29-2d86-4357-bb58-8da414fb3606",
   "metadata": {},
   "source": [
    "Visualization location of the missing data"
   ]
  },
  {
   "cell_type": "code",
   "execution_count": 34,
   "id": "cf47414a-1068-43de-8573-319ce9125450",
   "metadata": {},
   "outputs": [
    {
     "data": {
      "text/plain": [
       "<AxesSubplot:>"
      ]
     },
     "execution_count": 34,
     "metadata": {},
     "output_type": "execute_result"
    },
    {
     "data": {
      "image/png": "[encoded data removed]",
      "text/plain": [
       "<Figure size 1800x720 with 2 Axes>"
      ]
     },
     "metadata": {
      "needs_background": "light"
     },
     "output_type": "display_data"
    }
   ],
   "source": [
    "msno.matrix(df)"
   ]
  },
  {
   "cell_type": "markdown",
   "id": "77914e40-9c31-4416-af41-b339993da216",
   "metadata": {},
   "source": [
    "Correlation of features presence. It represents how strongly the presence or absence of one variable affects the presence of another"
   ]
  },
  {
   "cell_type": "code",
   "execution_count": 27,
   "id": "558751be-4b92-4efa-8446-cc8daac24f79",
   "metadata": {},
   "outputs": [
    {
     "data": {
      "text/plain": [
       "<AxesSubplot:>"
      ]
     },
     "execution_count": 27,
     "metadata": {},
     "output_type": "execute_result"
    },
    {
     "data": {
      "image/png": "[encoded data removed]",
      "text/plain": [
       "<Figure size 1440x864 with 2 Axes>"
      ]
     },
     "metadata": {
      "needs_background": "light"
     },
     "output_type": "display_data"
    }
   ],
   "source": [
    "msno.heatmap(df)"
   ]
  },
  {
   "cell_type": "markdown",
   "id": "8dfaa6a4-9d16-448f-b6e0-343c3cf3e007",
   "metadata": {},
   "source": [
    "The heatmap shows that there are no strong correlations between missing values of different features. The low correlations indicate that the data are MAR."
   ]
  },
  {
   "cell_type": "markdown",
   "id": "0bb1faac-faa1-4ccb-8aa5-e86f98c4fac5",
   "metadata": {},
   "source": [
    "The dendrogram allows you to  revealing trends deeper than the pairwise ones visible in the correlation heatmap:"
   ]
  },
  {
   "cell_type": "code",
   "execution_count": 28,
   "id": "e8bf5979-de5b-493b-8897-a820f17c8f7e",
   "metadata": {},
   "outputs": [
    {
     "data": {
      "text/plain": [
       "<AxesSubplot:>"
      ]
     },
     "execution_count": 28,
     "metadata": {},
     "output_type": "execute_result"
    },
    {
     "data": {
      "image/png": "[encoded data removed]",
      "text/plain": [
       "<Figure size 1800x720 with 1 Axes>"
      ]
     },
     "metadata": {
      "needs_background": "light"
     },
     "output_type": "display_data"
    }
   ],
   "source": [
    "msno.dendrogram(df)"
   ]
  },
  {
   "cell_type": "markdown",
   "id": "94604d4b-763b-42b0-bd22-819a3ad7e857",
   "metadata": {},
   "source": [
    "As the missingno documentaion states:\n",
    ">Cluster leaves which linked together at a distance of zero fully predict one another's presence—one variable might always be empty when another is filled, or they >might always both be filled or both empty, and so on(missingno documentation)"
   ]
  },
  {
   "cell_type": "markdown",
   "id": "126a1136-628a-4a7c-ae15-1275fe977c9e",
   "metadata": {},
   "source": []
  }
 ],
 "metadata": {
  "kernelspec": {
   "display_name": "data_analysis",
   "language": "python",
   "name": "data_analysis"
  },
  "language_info": {
   "codemirror_mode": {
    "name": "ipython",
    "version": 3
   },
   "file_extension": ".py",
   "mimetype": "text/x-python",
   "name": "python",
   "nbconvert_exporter": "python",
   "pygments_lexer": "ipython3",
   "version": "3.7.5"
  }
 },
 "nbformat": 4,
 "nbformat_minor": 5
}
