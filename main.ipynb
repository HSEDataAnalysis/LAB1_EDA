{
 "cells": [
  {
   "cell_type": "code",
   "execution_count": 21,
   "id": "734d09d2-8310-4c27-b979-89196636d06b",
   "metadata": {},
   "outputs": [],
   "source": [
    "import pandas as pd\n",
    "df = pd.read_excel('data/data.xlsx', \n",
    "                   header=None,\n",
    "                   names=[f'feature{i}' for i in range(1,6)])"
   ]
  },
  {
   "cell_type": "code",
   "execution_count": 24,
   "id": "c73f9299-1417-4ff0-95c9-98fcc8f97e43",
   "metadata": {},
   "outputs": [
    {
     "data": {
      "text/html": [
       "<div>\n",
       "<style scoped>\n",
       "    .dataframe tbody tr th:only-of-type {\n",
       "        vertical-align: middle;\n",
       "    }\n",
       "\n",
       "    .dataframe tbody tr th {\n",
       "        vertical-align: top;\n",
       "    }\n",
       "\n",
       "    .dataframe thead th {\n",
       "        text-align: right;\n",
       "    }\n",
       "</style>\n",
       "<table border=\"1\" class=\"dataframe\">\n",
       "  <thead>\n",
       "    <tr style=\"text-align: right;\">\n",
       "      <th></th>\n",
       "      <th>feature1</th>\n",
       "      <th>feature2</th>\n",
       "      <th>feature3</th>\n",
       "      <th>feature4</th>\n",
       "      <th>feature5</th>\n",
       "    </tr>\n",
       "  </thead>\n",
       "  <tbody>\n",
       "    <tr>\n",
       "      <th>0</th>\n",
       "      <td>1.117915</td>\n",
       "      <td>-2.065559</td>\n",
       "      <td>NaN</td>\n",
       "      <td>-1.362986</td>\n",
       "      <td>-0.709196</td>\n",
       "    </tr>\n",
       "    <tr>\n",
       "      <th>1</th>\n",
       "      <td>-0.503055</td>\n",
       "      <td>-2.892927</td>\n",
       "      <td>0.713895</td>\n",
       "      <td>-1.631237</td>\n",
       "      <td>-1.790220</td>\n",
       "    </tr>\n",
       "    <tr>\n",
       "      <th>2</th>\n",
       "      <td>NaN</td>\n",
       "      <td>-0.077614</td>\n",
       "      <td>0.772394</td>\n",
       "      <td>-1.500325</td>\n",
       "      <td>-0.164499</td>\n",
       "    </tr>\n",
       "    <tr>\n",
       "      <th>3</th>\n",
       "      <td>1.163245</td>\n",
       "      <td>1.046673</td>\n",
       "      <td>1.674523</td>\n",
       "      <td>-1.867193</td>\n",
       "      <td>-0.534950</td>\n",
       "    </tr>\n",
       "    <tr>\n",
       "      <th>4</th>\n",
       "      <td>0.185329</td>\n",
       "      <td>-2.824514</td>\n",
       "      <td>2.036840</td>\n",
       "      <td>-2.040093</td>\n",
       "      <td>NaN</td>\n",
       "    </tr>\n",
       "  </tbody>\n",
       "</table>\n",
       "</div>"
      ],
      "text/plain": [
       "   feature1  feature2  feature3  feature4  feature5\n",
       "0  1.117915 -2.065559       NaN -1.362986 -0.709196\n",
       "1 -0.503055 -2.892927  0.713895 -1.631237 -1.790220\n",
       "2       NaN -0.077614  0.772394 -1.500325 -0.164499\n",
       "3  1.163245  1.046673  1.674523 -1.867193 -0.534950\n",
       "4  0.185329 -2.824514  2.036840 -2.040093       NaN"
      ]
     },
     "execution_count": 24,
     "metadata": {},
     "output_type": "execute_result"
    }
   ],
   "source": [
    "df.head()"
   ]
  },
  {
   "cell_type": "code",
   "execution_count": null,
   "id": "c8885b11-d9e4-452c-891a-3169df4ca46c",
   "metadata": {},
   "outputs": [],
   "source": []
  }
 ],
 "metadata": {
  "kernelspec": {
   "display_name": "data_analysis",
   "language": "python",
   "name": "data_analysis"
  },
  "language_info": {
   "codemirror_mode": {
    "name": "ipython",
    "version": 3
   },
   "file_extension": ".py",
   "mimetype": "text/x-python",
   "name": "python",
   "nbconvert_exporter": "python",
   "pygments_lexer": "ipython3",
   "version": "3.7.5"
  }
 },
 "nbformat": 4,
 "nbformat_minor": 5
}
