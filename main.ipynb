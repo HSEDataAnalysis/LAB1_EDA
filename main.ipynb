{
 "cells": [
  {
   "cell_type": "code",
<<<<<<< HEAD
   "execution_count": 1,
=======
   "execution_count": 20,
>>>>>>> 5a07046c8bcdea27cb860cb2a14e177874525954
   "id": "734d09d2-8310-4c27-b979-89196636d06b",
   "metadata": {},
   "outputs": [],
   "source": [
    "import pandas as pd\n",
    "import missingno as msno\n",
<<<<<<< HEAD
    "import matplotlib.pyplot as plt\n",
    "import seaborn as sns\n",
    "import numpy as np\n",
    "from loguru import logger\n",
=======
>>>>>>> 5a07046c8bcdea27cb860cb2a14e177874525954
    "%matplotlib inline"
   ]
  },
  {
   "cell_type": "code",
<<<<<<< HEAD
   "execution_count": 2,
=======
   "execution_count": 21,
>>>>>>> 5a07046c8bcdea27cb860cb2a14e177874525954
   "id": "40b8482b-cafd-44cf-bbd1-2df02d92cd4d",
   "metadata": {},
   "outputs": [],
   "source": [
<<<<<<< HEAD
    "col_names = [f'feature{i}' for i in range(1,6)]\n",
=======
>>>>>>> 5a07046c8bcdea27cb860cb2a14e177874525954
    "df = pd.read_excel('data/data.xlsx', \n",
    "                   header=None,\n",
    "                   names=col_names)"
   ]
  },
  {
   "cell_type": "code",
<<<<<<< HEAD
   "execution_count": 3,
=======
   "execution_count": 22,
>>>>>>> 5a07046c8bcdea27cb860cb2a14e177874525954
   "id": "c73f9299-1417-4ff0-95c9-98fcc8f97e43",
   "metadata": {},
   "outputs": [
    {
     "data": {
      "text/html": [
       "<div>\n",
       "<style scoped>\n",
       "    .dataframe tbody tr th:only-of-type {\n",
       "        vertical-align: middle;\n",
       "    }\n",
       "\n",
       "    .dataframe tbody tr th {\n",
       "        vertical-align: top;\n",
       "    }\n",
       "\n",
       "    .dataframe thead th {\n",
       "        text-align: right;\n",
       "    }\n",
       "</style>\n",
       "<table border=\"1\" class=\"dataframe\">\n",
       "  <thead>\n",
       "    <tr style=\"text-align: right;\">\n",
       "      <th></th>\n",
       "      <th>feature1</th>\n",
       "      <th>feature2</th>\n",
       "      <th>feature3</th>\n",
       "      <th>feature4</th>\n",
       "      <th>feature5</th>\n",
       "    </tr>\n",
       "  </thead>\n",
       "  <tbody>\n",
       "    <tr>\n",
       "      <th>0</th>\n",
       "      <td>1.117915</td>\n",
       "      <td>-2.065559</td>\n",
       "      <td>NaN</td>\n",
       "      <td>-1.362986</td>\n",
       "      <td>-0.709196</td>\n",
       "    </tr>\n",
       "    <tr>\n",
       "      <th>1</th>\n",
       "      <td>-0.503055</td>\n",
       "      <td>-2.892927</td>\n",
       "      <td>0.713895</td>\n",
       "      <td>-1.631237</td>\n",
       "      <td>-1.790220</td>\n",
       "    </tr>\n",
       "    <tr>\n",
       "      <th>2</th>\n",
       "      <td>NaN</td>\n",
       "      <td>-0.077614</td>\n",
       "      <td>0.772394</td>\n",
       "      <td>-1.500325</td>\n",
       "      <td>-0.164499</td>\n",
       "    </tr>\n",
       "    <tr>\n",
       "      <th>3</th>\n",
       "      <td>1.163245</td>\n",
       "      <td>1.046673</td>\n",
       "      <td>1.674523</td>\n",
       "      <td>-1.867193</td>\n",
       "      <td>-0.534950</td>\n",
       "    </tr>\n",
       "    <tr>\n",
       "      <th>4</th>\n",
       "      <td>0.185329</td>\n",
       "      <td>-2.824514</td>\n",
       "      <td>2.036840</td>\n",
       "      <td>-2.040093</td>\n",
       "      <td>NaN</td>\n",
       "    </tr>\n",
       "  </tbody>\n",
       "</table>\n",
       "</div>"
      ],
      "text/plain": [
       "   feature1  feature2  feature3  feature4  feature5\n",
       "0  1.117915 -2.065559       NaN -1.362986 -0.709196\n",
       "1 -0.503055 -2.892927  0.713895 -1.631237 -1.790220\n",
       "2       NaN -0.077614  0.772394 -1.500325 -0.164499\n",
       "3  1.163245  1.046673  1.674523 -1.867193 -0.534950\n",
       "4  0.185329 -2.824514  2.036840 -2.040093       NaN"
      ]
     },
<<<<<<< HEAD
     "execution_count": 3,
=======
     "execution_count": 22,
>>>>>>> 5a07046c8bcdea27cb860cb2a14e177874525954
     "metadata": {},
     "output_type": "execute_result"
    }
   ],
   "source": [
    "df.head()"
   ]
  },
  {
   "cell_type": "markdown",
   "id": "798f8f15-6771-4236-873b-6a3ceaa89cbd",
   "metadata": {},
   "source": [
<<<<<<< HEAD
    "##  3. Missing Values Analysis"
=======
    "###  Missing Values Analysis"
>>>>>>> 5a07046c8bcdea27cb860cb2a14e177874525954
   ]
  },
  {
   "cell_type": "markdown",
   "id": "c29f2dc7-59fa-43ff-a35a-203ab5e3e980",
   "metadata": {},
   "source": [
    "Usually missing data problems areclassified  into three categories. We'll try to categorize the missing values in our data."
   ]
  },
  {
   "cell_type": "markdown",
   "id": "14ddc882-c3e9-4262-b12d-1a666bbcab3d",
   "metadata": {},
   "source": [
<<<<<<< HEAD
    "![Missin Values Types](https://cjasn.asnjournals.org/content/clinjasn/early/2014/02/06/CJN.10141013/F2.large.jpg?width=800&height=600&carousel=1)"
   ]
  },
  {
   "cell_type": "code",
   "execution_count": 4,
   "id": "0eb7257a-0954-4cff-b8d7-6b2114adec4d",
   "metadata": {},
   "outputs": [],
   "source": [
    "def missing_values_table(df):\n",
    "    # Total missing values\n",
    "    mis_val = df.isnull().sum()\n",
    "\n",
    "    # Percentage of missing values\n",
    "    mis_val_percent = 100 * df.isnull().sum() / len(df)\n",
    "\n",
    "    # Make a table with the results\n",
    "    mis_val_table = pd.concat([mis_val, mis_val_percent], axis=1)\n",
    "\n",
    "    # Rename the columns\n",
    "    mis_val_table_ren_columns = mis_val_table.rename(\n",
    "    columns = {0 : 'Missing Values Amount ', 1 : 'Percent of Total Values'})\n",
    "\n",
    "    # Sort the table by percentage of missing descending\n",
    "    mis_val_table_ren_columns = mis_val_table_ren_columns[\n",
    "        mis_val_table_ren_columns.iloc[:,1] != 0].sort_values(\n",
    "    'Percent of Total Values', ascending=False).round(1)\n",
    "\n",
    "    return mis_val_table_ren_columns"
   ]
  },
  {
   "cell_type": "code",
   "execution_count": 5,
   "id": "5ae0d28d-6804-4ab3-824a-b2efbeff6dac",
   "metadata": {},
   "outputs": [
    {
     "data": {
      "text/html": [
       "<div>\n",
       "<style scoped>\n",
       "    .dataframe tbody tr th:only-of-type {\n",
       "        vertical-align: middle;\n",
       "    }\n",
       "\n",
       "    .dataframe tbody tr th {\n",
       "        vertical-align: top;\n",
       "    }\n",
       "\n",
       "    .dataframe thead th {\n",
       "        text-align: right;\n",
       "    }\n",
       "</style>\n",
       "<table border=\"1\" class=\"dataframe\">\n",
       "  <thead>\n",
       "    <tr style=\"text-align: right;\">\n",
       "      <th></th>\n",
       "      <th>Missing Values Amount</th>\n",
       "      <th>Percent of Total Values</th>\n",
       "    </tr>\n",
       "  </thead>\n",
       "  <tbody>\n",
       "    <tr>\n",
       "      <th>feature1</th>\n",
       "      <td>5</td>\n",
       "      <td>10.0</td>\n",
       "    </tr>\n",
       "    <tr>\n",
       "      <th>feature3</th>\n",
       "      <td>5</td>\n",
       "      <td>10.0</td>\n",
       "    </tr>\n",
       "    <tr>\n",
       "      <th>feature5</th>\n",
       "      <td>5</td>\n",
       "      <td>10.0</td>\n",
       "    </tr>\n",
       "    <tr>\n",
       "      <th>feature2</th>\n",
       "      <td>4</td>\n",
       "      <td>8.0</td>\n",
       "    </tr>\n",
       "    <tr>\n",
       "      <th>feature4</th>\n",
       "      <td>3</td>\n",
       "      <td>6.0</td>\n",
       "    </tr>\n",
       "  </tbody>\n",
       "</table>\n",
       "</div>"
      ],
      "text/plain": [
       "          Missing Values Amount   Percent of Total Values\n",
       "feature1                       5                     10.0\n",
       "feature3                       5                     10.0\n",
       "feature5                       5                     10.0\n",
       "feature2                       4                      8.0\n",
       "feature4                       3                      6.0"
      ]
     },
     "execution_count": 5,
     "metadata": {},
     "output_type": "execute_result"
    }
   ],
   "source": [
    "missing_values_table(df)"
   ]
  },
  {
   "cell_type": "markdown",
   "id": "86ce8669-8254-4d6c-9dfd-5182de96ac10",
   "metadata": {},
   "source": [
    "#### Tools"
   ]
  },
  {
   "cell_type": "markdown",
   "id": "739aac53-d288-4474-9ea6-c5090f7b3127",
   "metadata": {},
   "source": [
    "! For better understanding of missing values patterns, we will use the [missingno](https://github.com/ResidentMario/missingno) library which allows us to get a quick visual summary of the completeness of our data."
   ]
  },
  {
   "cell_type": "markdown",
   "id": "ba059f29-2d86-4357-bb58-8da414fb3606",
   "metadata": {},
   "source": [
    "#### Visualization location of the missing data"
   ]
  },
  {
   "cell_type": "code",
   "execution_count": 6,
   "id": "cf47414a-1068-43de-8573-319ce9125450",
   "metadata": {},
   "outputs": [
    {
     "data": {
      "text/plain": [
       "<AxesSubplot:>"
      ]
     },
     "execution_count": 6,
     "metadata": {},
     "output_type": "execute_result"
    },
    {
     "data": {
      "image/png": "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\n",
      "text/plain": [
       "<Figure size 1800x720 with 2 Axes>"
      ]
     },
     "metadata": {
      "needs_background": "light"
     },
     "output_type": "display_data"
    }
   ],
   "source": [
    "msno.matrix(df)"
   ]
  },
  {
   "cell_type": "markdown",
   "id": "77914e40-9c31-4416-af41-b339993da216",
   "metadata": {},
   "source": [
    "#### Correlation of features missingness. \n",
    "It represents how strongly the presence or absence of one variable affects the presence of another"
   ]
  },
  {
   "cell_type": "code",
   "execution_count": 7,
   "id": "558751be-4b92-4efa-8446-cc8daac24f79",
   "metadata": {},
   "outputs": [
    {
     "data": {
      "text/plain": [
       "<AxesSubplot:>"
      ]
     },
     "execution_count": 7,
     "metadata": {},
     "output_type": "execute_result"
    },
    {
     "data": {
      "image/png": "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\n",
      "text/plain": [
       "<Figure size 1440x864 with 2 Axes>"
      ]
     },
     "metadata": {
      "needs_background": "light"
     },
     "output_type": "display_data"
    }
   ],
   "source": [
    "msno.heatmap(df)"
   ]
  },
  {
   "cell_type": "markdown",
   "id": "8dfaa6a4-9d16-448f-b6e0-343c3cf3e007",
   "metadata": {},
   "source": [
    "The heatmap shows that there are no strong correlations between missing values of different features. The low correlations indicate that the data are Missing at Random (MAR)."
   ]
  },
  {
   "cell_type": "markdown",
   "id": "bc0c3786-611d-4586-b3a4-58c7f7cda0c2",
   "metadata": {},
   "source": [
    "#### Features Dendrogram (Hierarchy Clusterization)"
   ]
  },
  {
   "cell_type": "markdown",
   "id": "0bb1faac-faa1-4ccb-8aa5-e86f98c4fac5",
   "metadata": {},
   "source": [
    "The dendrogram allows you to  revealing trends deeper than the pairwise ones visible in the correlation heatmap:"
   ]
  },
  {
   "cell_type": "code",
   "execution_count": 8,
   "id": "e8bf5979-de5b-493b-8897-a820f17c8f7e",
   "metadata": {},
   "outputs": [
    {
     "data": {
      "text/plain": [
       "<AxesSubplot:>"
      ]
     },
     "execution_count": 8,
     "metadata": {},
     "output_type": "execute_result"
    },
    {
     "data": {
      "image/png": "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\n",
      "text/plain": [
       "<Figure size 1800x720 with 1 Axes>"
      ]
     },
     "metadata": {
      "needs_background": "light"
     },
     "output_type": "display_data"
    }
   ],
   "source": [
    "msno.dendrogram(df)"
   ]
  },
  {
   "cell_type": "markdown",
   "id": "94604d4b-763b-42b0-bd22-819a3ad7e857",
   "metadata": {},
   "source": [
    "As the missingno documentaion states:\n",
    ">Cluster leaves which linked together at a distance of zero fully predict one another's presence—one variable might always be empty when another is filled, or they >might always both be filled or both empty, and so on(missingno documentation)"
   ]
  },
  {
   "cell_type": "markdown",
   "id": "126a1136-628a-4a7c-ae15-1275fe977c9e",
   "metadata": {},
   "source": [
    "So the conclusion after these analysis charts is that there are no strong correlation between the missingness in features. First of all, due to small amount of missing values."
   ]
  },
  {
   "cell_type": "markdown",
   "id": "7c529615-6ec9-4b78-8360-d849408e9626",
   "metadata": {},
   "source": [
    "#### Feature Correlation heatmap"
   ]
  },
  {
   "cell_type": "code",
   "execution_count": 9,
   "id": "5d535a73-3001-4be2-8c1c-6bbe596d3561",
   "metadata": {},
   "outputs": [
    {
     "data": {
      "image/png": "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\n",
      "text/plain": [
       "<Figure size 864x720 with 2 Axes>"
      ]
     },
     "metadata": {
      "needs_background": "light"
     },
     "output_type": "display_data"
    }
   ],
   "source": [
    "plt.figure(figsize=(12,10))\n",
    "cor = df.corr()\n",
    "sns.heatmap(cor, annot=True, cmap=plt.cm.Reds)\n",
    "plt.show()"
   ]
  },
  {
   "cell_type": "markdown",
   "id": "b8038577-2858-414e-a993-1b50dc6d1062",
   "metadata": {},
   "source": [
    "By the way, some features itself have strong enough correlation. For example:\n",
    "- feature4 and feature5 have strong positive correlation with 0.67 value\n",
    "- feature4 and feature3 in contrast have negative correlation with 0.5 value"
   ]
  },
  {
   "cell_type": "markdown",
   "id": "90fdbfea-be08-41c8-9671-6b56f3f15704",
   "metadata": {},
   "source": [
    "##  3. Imputation Methods"
   ]
  },
  {
   "cell_type": "markdown",
   "id": "edbd23c3-98cb-4a83-ac8b-df02f099c4e9",
   "metadata": {},
   "source": [
    "There are a lot of missing data imputation scenarios. In this lab the following methods will be implemented:\n",
    "1. Basic Data Imputatuion Techniques\n",
    "    - With a constant value \n",
    "    - With a descriptive statistics (mean, median)\n",
    "2. Advanced Data Imputatuion Techniques\n",
    "    - EM Algorithm\n",
    "    - KNN Imputater\n",
    "    - MissForest Imputer"
   ]
  },
  {
   "cell_type": "code",
   "execution_count": 10,
   "id": "4270dac4-5a3a-4bbd-89a9-3ca249a30695",
   "metadata": {},
   "outputs": [
    {
     "name": "stderr",
     "output_type": "stream",
     "text": [
      "/home/alexander/HSE_Stuff/envs/data_analysis/lib/python3.7/site-packages/seaborn/distributions.py:2619: FutureWarning: `distplot` is a deprecated function and will be removed in a future version. Please adapt your code to use either `displot` (a figure-level function with similar flexibility) or `histplot` (an axes-level function for histograms).\n",
      "  warnings.warn(msg, FutureWarning)\n"
     ]
    },
    {
     "data": {
      "text/plain": [
       "<AxesSubplot:xlabel='feature1', ylabel='Density'>"
      ]
     },
     "execution_count": 10,
     "metadata": {},
     "output_type": "execute_result"
    },
    {
     "data": {
      "image/png": "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\n",
      "text/plain": [
       "<Figure size 720x576 with 1 Axes>"
      ]
     },
     "metadata": {
      "needs_background": "light"
     },
     "output_type": "display_data"
    }
   ],
   "source": [
    "fig, ax = plt.subplots(figsize=(10, 8))\n",
    "sns.distplot(df.feature1)"
   ]
  },
  {
   "cell_type": "code",
   "execution_count": 11,
   "id": "d1eb9e67-c1cf-4d62-bf9e-102d172d9687",
   "metadata": {},
   "outputs": [
    {
     "name": "stderr",
     "output_type": "stream",
     "text": [
      "/home/alexander/HSE_Stuff/envs/data_analysis/lib/python3.7/site-packages/seaborn/distributions.py:2619: FutureWarning: `distplot` is a deprecated function and will be removed in a future version. Please adapt your code to use either `displot` (a figure-level function with similar flexibility) or `histplot` (an axes-level function for histograms).\n",
      "  warnings.warn(msg, FutureWarning)\n"
     ]
    },
    {
     "data": {
      "text/plain": [
       "<AxesSubplot:xlabel='feature2', ylabel='Density'>"
      ]
     },
     "execution_count": 11,
     "metadata": {},
     "output_type": "execute_result"
    },
    {
     "data": {
      "image/png": "iVBORw0KGgoAAAANSUhEUgAAAmcAAAHgCAYAAADg78rsAAAAOXRFWHRTb2Z0d2FyZQBNYXRwbG90bGliIHZlcnNpb24zLjQuMywgaHR0cHM6Ly9tYXRwbG90bGliLm9yZy/MnkTPAAAACXBIWXMAAAsTAAALEwEAmpwYAABLQklEQVR4nO3dd3zdV2H+8efoau9xNSxL8pK8dzwSjwyyQ0ggIc2ihNUABQot0IbR0FJa9iz010CgDYEQMggxGSSOQxKbxHtPWR6SLWtL1t73/P7QTeoYD9nW1fneez/v10sv3yk9vrauHp3v95xjrLUCAACAN8S4DgAAAID/QzkDAADwEMoZAACAh1DOAAAAPIRyBgAA4CGUMwAAAA+JdR1gpPj9fjt+/HjXMQAAAM5q06ZNjdba3FPdFzHlbPz48dq4caPrGAAAAGdljKk83X0c1gQAAPAQyhkAAICHUM4AAAA8hHIGAADgIZQzAAAAD6GcAQAAeAjlDAAAwEMoZwAAAB5COQMAAPAQyhkAAICHUM4AAAA8hHIGAADgISEtZ8aY64wx+4wxFcaY+05x/z8YY3YbY7YbY1YZY8adcN+gMWZr8GNFKHMCAAB4RWyoPrExxifpJ5KulnRU0gZjzApr7e4THrZF0gJrbZcx5uOSviXp9uB93dbauaHKBwAA4EWhHDlbJKnCWnvQWtsn6VFJN5/4AGvtn6y1XcGrayUVhTAPAACA54WynI2VdOSE60eDt53OhyU9f8L1RGPMRmPMWmPMu0OQDwAAwHNCdljzXBhj3idpgaTLTrh5nLW22hgzUdLLxpgd1toDJz3vXkn3SlJJScmo5QUAAAiVUI6cVUsqPuF6UfC2tzHGXCXpS5Justb2vnm7tbY6+OdBSa9Imnfyc621P7XWLrDWLsjNzR3Z9AAAAA6EspxtkFRmjJlgjImXdIekt826NMbMk/SAhopZ/Qm3ZxljEoKX/ZKWSjpxIgEAAEBECtlhTWvtgDHmk5JekOST9Atr7S5jzFclbbTWrpD0bUmpkh43xkhSlbX2JknTJD1gjAloqEB+46RZngAQ0R5ZV+U6wqi4azGnpAAnC+k5Z9ba5yQ9d9Jt959w+arTPO91SbNCmQ0AAMCL2CEAAADAQyhnAAAAHkI5AwAA8BDKGQAAgIdQzgAAADyEcgYAAOAhlDMAAAAPoZwBAAB4COUMAADAQyhnAAAAHkI5AwAA8BDKGQAAgIdQzgAAADyEcgYAAOAhlDMAAAAPoZwBAAB4COUMAADAQyhnAAAAHkI5AwAA8BDKGQAAgIdQzgAAADyEcgYAAOAhlDMAAAAPoZwBAAB4COUMAADAQyhnAAAAHkI5AwAA8BDKGQAAgIdQzgAAADyEcgYAAOAhlDMAAAAPoZwBAAB4COUMAADAQyhnAAAAHkI5AwAA8BDKGQAAgIdQzgAAADyEcgYAAOAhlDMAAAAPiXUdAAAwMjp7B1Re166jx7vV0tmn1u5+xRij+NgYpSbEqjg7WSXZySrKSlKMMa7jAjgNyhkAhLHBgNX2o8e17lCzjjR3yUqK98UoKyVOmUnxsrLqG7A60tKlHdWtkqTMpDgtnJCtBeOylJYY5/YvAOAvUM4AIAwNBqzWHWrSa+UNausZUG5agt4xLU9T89M1JjPxlCNjbT39OtTQqY2VzVq5u05/2luvy6bk6tKyXMX5OMsF8ArKGQCEmcONnVqx7Zhq23o0wZ+i98wr0uT8VJmzHKpMT4zTnOJMzSnOVGN7r1buqdOqPfXaUnVc75k3VpNyU0fpbwDgTChnABAmBgIBvbirTmsqGpWRFKe7F5do+pj0s5ayU/GnJejORSVaWN+hFduq9Ys1h3TdzAItK/Wf1+cDMHIoZwAQBlo6+/SbDVU62tKtiydm67oZYxQfe+GHIkvzUvWJy0v15Oajen5nrY62dOu9FxVxmBNwiHIGAB5X2dSpX75RKSuruxaVaObYjBH9/AlxPt25qESv7W/UC7tq1TswqLsXj6OgAY7wnQcAHrazulU/X3NIyfE+feLy0hEvZm8yxuiyybl6z7yx2l/XoV+trVT/YCAkXwvAmVHOAMCj1h9q1m/WV6kwM0kfu2ySclITQv41F47P1i3zx6qivkOPrKtSwNqQf00Ab0c5AwAPWn+oWb/fWq3J+Wn68LIJSkkYvbNQLhqXrXfNKdS+unY9v6Nm1L4ugCGccwYAHvOb9VX6/dZqTclP092LSxTr4NyviyfmqKGjV38+0KS8tEQtnJA96hmAaMXIGQB4yDPbj+mLT+1wWszedMPMMZqcn6qnt1WrsqnTWQ4g2lDOAMAj3jjQpH/47TZdVJKluxwXM0nyxRjdsbBEGUlxemzjEfX0DzrNA0QLyhkAeMC+2nbd+/BGleQk68F7FnhmGYvEOJ9uX1ii1u5+/X5rtSwTBICQ88Z3PwBEsebOPn34oQ1KivPpoQ8tUmZyvOtIb1OSnawrp+Vr+9FWbak67joOEPEoZwDgUP9gQH/7602qb+/Vz96/QGMzk1xHOqXLJudqfE6KntlxTG09/a7jABGNcgYADn31D7u19mCzvnnrLM0pznQd57RijNEt88dqYNDq2e0srwGEEuUMABx5ctNRPby2UvdeOlHvmVfkOs5Z+VMTdPmUPO2obtXe2jbXcYCIxTpnAMLGI+uqXEcYMXVtPfqvVyo0wZ+i4qzksPm7XTrZr+1Hj2vF1mOacFWKEmJ9riMBEYeRMwAYZb0Dg3pkfZUSYn26fWGxfDHGdaRhi42J0XvmjdXx7n69Vt7oOg4QkShnADDK/rDtmBrbe3X7wmKlJ8a5jnPOxuWkaHZRhtZUNKi1m8kBwEijnAHAKNpZ3arNVcd1+ZQ8TcpNdR3nvF07vUDWSi/uqnUdBYg4lDMAGCVtPUMLuY7NTNI7pua5jnNBslLitWSSX1uOHFd1S7frOEBEoZwBwCiw1up3m4+qbyCg2xYUhdV5Zqdz+ZRcJcf79PxOltYARhLlDABGwfrDzSqv69D1MwuUl5boOs6ISIzz6R1T83SwsVMHGjpcxwEiBuUMAEKssaNXz+2oUVleqhZPzHEdZ0QtHJ+t9MRYrdpTx76bwAihnAFACA0GrB7feESxMTG6ZX6RYkz4H848UZwvRpdNydPhpi4daOh0HQeICJQzAAihV8sbdKSlWzfPLVRGUvgtmzEcC8dlKSMpTi8xegaMCMoZAIRIXVuP/rS3XrPGZmh2UabrOCET64vRZZNzVdXcpQrOPQMuGOUMAEIgYK2e2lKt+NgYvWtOoes4IbdgXJbSE2P1WnmD6yhA2KOcAUAIrD/UrKrmLr1z9hilJkT+NsaxvhgtmeTXgYZO1j0DLhDlDABGWGt3v17YVavSvFTNK850HWfULJqQrYTYGL22n9Ez4EJQzgBgBFlr9fTWagWs1bvnjpWJsNmZZ5IY59PiCdnaWd2q5s4+13GAsEU5A4ARtPNYm/bWtuuqafnKTol3HWfULZnkV4wxWlPR6DoKELYoZwAwQrr7BvWHbcc0NjNJSyb5XcdxIj0pTnOLM7WpslndfYOu4wBhiXIGACPk+Z016uob0HvmjY2IvTPP15LSHPUPWm2sbHYdBQhLIS1nxpjrjDH7jDEVxpj7TnH/PxhjdhtjthtjVhljxp1w3z3GmP3Bj3tCmRMALlRVU6c2VrZoaalfhZlJruM4NSYjSeNzkrXuULMCLEoLnLOQlTNjjE/STyRdL2m6pDuNMdNPetgWSQustbMlPSHpW8HnZkv6iqTFkhZJ+ooxJitUWQHgQgSs1Yptx5SeGKt3TM1zHccTLp6Yo+bOPpXXtruOAoSdUI6cLZJUYa09aK3tk/SopJtPfIC19k/W2q7g1bWSioKXr5W00lrbbK1tkbRS0nUhzAoA5239oWYda+3RDbPGKCHW5zqOJ8wozFB6YqzeONjkOgoQdkJZzsZKOnLC9aPB207nw5KeP8/nAoATHb0DenF3rSblpmjW2AzXcTzDF2O0aEK29td3qKG913UcIKx4YkKAMeZ9khZI+vY5Pu9eY8xGY8zGhgYWPQQw+l7YVav+Aat3zSmMqjXNhmPh+Gz5jNG6Q4yeAecilOWsWlLxCdeLgre9jTHmKklfknSTtbb3XJ5rrf2ptXaBtXZBbm7uiAUHgOGoaurUpsoWLS3NUV5aous4npOWGKfphenaUnVc/YMB13GAsBHKcrZBUpkxZoIxJl7SHZJWnPgAY8w8SQ9oqJjVn3DXC5KuMcZkBScCXBO8DQA84cRJAFcwCeC0FozPUnf/oHYda3MdBQgbIStn1toBSZ/UUKnaI+kxa+0uY8xXjTE3BR/2bUmpkh43xmw1xqwIPrdZ0r9pqOBtkPTV4G0A4AlMAhieSbmpykqO08bDvIUDwxUbyk9urX1O0nMn3Xb/CZevOsNzfyHpF6FLBwDnh0kAwxdjjBaMz9bK3XVq6uhVTmqC60iA53liQgAAhBMmAZybi0qyFGOkDYdbXEcBwgLlDADOAZMAzl16Upym5KdpU1WLBgPsGACcDeUMAIaJSQDnb8H4bHX2Dqi8jh0DgLOhnAHAMDEJ4PxNzk9TSrxPW6o4tAmcDeUMAIaBSQAXxhdjNKc4U3tq29XVN+A6DuBplDMAGAYmAVy4+SVZGgxYbT/a6joK4GmUMwA4i6rmLiYBjIAxGYnKT0/g0CZwFpQzADiDgLVasbWaSQAjwBij+SVZOtLSzWbowBlQzgDgDJgEMLLmFGfKSNpyhNEz4HQoZwBwGkwCGHnpiXEqzUvV9qOtspY1z4BToZwBwGkwCSA0ZhdlqrmzT0dbul1HATyJcgYAp8AkgNCZUZiu2BijrUePu44CeBLlDABOMhhgEkAoJcb5NKUgTTuOtrKdE3AKlDMAOMm6Q0061tqjd84uZBJAiMwuylRH74DeONDkOgrgOZQzADhBW0+/Vu6uU1leqmYWpruOE7GmFqQpITZGK7ZVu44CeA7lDABO8MedtRoIMAkg1OJ8MZo+Jl3P76xV78Cg6ziAp1DOACDoQEOHth45rssm58qfmuA6TsSbXZSp9p4Brdnf6DoK4CmUMwCQNBAIaMXWY8pOiddlk3Ndx4kKk/JSlJYYq+d31rqOAngK5QwAJP25okkNHb161+wxivPx1jgaYmNidPW0fK3cXaf+wYDrOIBn8A4EIOq1dPXp5b11mj4mXVMKmAQwmq6bWaDW7n6tPcisTeBNlDMAUe/Z7TWSpBtnj3GcJPpcOjlXyfE+Dm0CJ6CcAYhqe2vbtLumTe+Ymq/M5HjXcaJOYpxPV0zN04u7almQFgiinAGIWv2DAf1h2zHlpiVoaWmO6zhR6/qZBWrs6NPGw82uowCeQDkDELVe2deglq5+3TynULExvB26csWUPCXExnBoEwji3QhAVGpo79Vr+xs0tzhTE3NTXceJaikJsbp0cq5e2FWrAIc2AcoZgOgTsFZPbalWnM/o+pkFruNAQ4c2a1p7tO3ocddRAOcoZwCizsbDLTrc1KkbZo5RWmKc6ziQdOW0fMX5jP7IoU2AcgYgurR19+v5nTWamJuii8ZluY6DoIykOC2Z5NfzO2tlLYc2Ed0oZwCiyoptxzQYsHrP3LFsbO4x188sUFVzl3bXtLmOAjhFOQMQNXZWt2p3TZuumpavHDY295yrp+crxohDm4h6lDMAUaG7b1B/2HZMhRmJWlrqdx0Hp5CTmqDFE3JYUgNRj3IGICr8cVetOvsG9J75RfLFcDjTq66fVaCK+g5V1Le7jgI4E+s6AIAL98i6KtcRPO1AQ4c2HG7W8jK/xmYmuY6DM7hmeoHuf3qXVu6uV2lemus4gBOMnAGIaL39g3py81HlpMTryqn5ruPgLAoyEjWjMF2r9tS5jgI4QzkDENGe21mj1q5+vfeiIsXH8pYXDq6clq/NVS1q7uxzHQVwgncqABFrX227Nhxu0fKyXI3LSXEdB8N01bQ8Baz0yr5611EAJyhnACJSd9+gntpyVHlpCbpqWp7rODgHMwszlJeWoFV7KGeITpQzABHpD9uPqaN3QLctKFasj7e6cBITY3TltDy9Wt6gvoGA6zjAqOMdC0DE2Vndqq1HjuuKKXnMzgxTV07NV0fvgNYfanYdBRh1lDMAEaWjd0BPb61WYWaiLp/C4cxwtbTUr4TYGL3ErE1EIcoZgIhhrdWTm46qZyCg2y4qZrHZMJYU79PSUr9W7a1jI3REHcoZgIjxxsEm7atr1/UzC5Sfnug6Di7QldPydKS5W/vrO1xHAUYV5QxARKhp7dbzO2s1tSBNl0zMcR0HI+DNRYM5tIloQzkDEPb6BgJ6dP0RJcf7dMv8IhnD4cxIUJCRqJlj01lSA1GHcgYg7D2745gaO3p120XFSk1gy+BIcuXUod0Cmjp6XUcBRg3lDEBY21Hd+tYuAKV5qa7jYIRdOS1P1kqv7GtwHQUYNZQzAGHreFefntpyVEVZSbp6OpuaR6K3dgvYy3lniB6UMwBhaSAQ0G/WV8la6fYFLJsRqd7cLeC18kZ2C0DUoJwBCEvP76jVkZZu3TK/SDmpCa7jIITe3C1g3aEm11GAUUE5AxB2th09rjcONmnppBzNGpvhOg5CbGmpX/GxMZx3hqhBOQMQVuraevTU5mqNy07WdTPHuI6DUZAU79PiCdl6ZR9LaiA6UM4AhI3e/kE9sq5KcbExumNRCeeZRZHLJufqQEOnjjR3uY4ChBzlDEBYsNbqd1uq1djRqzsWFisjKc51JIyiNzexf7WcQ5uIfJQzAGHhjYNN2lHdqqun52tSLuuZRZtJuSkam5lEOUNUoJwB8LyK+g49t6NG0wrSdOnkXNdx4IAxRpdPydXrFSypgchHOQPgac2dffrN+ir5UxN024JixbBvZtS6fEqeOvsGtfFws+soQEhRzgB4Vm//oH75xmFJ0l9fPE6JcT63geDUJZNyFOczHNpExKOcAfCkgLV6bNNRNXb06s5FJSw0C6UmxGrh+GzWO0PEo5wB8KRVe+q1p6ZN188cw4bmeMvlU3K1r65dNa3drqMAIUM5A+A5O6pb9ad99bqoJEtLJuW4jgMPuWxycEkNRs8QwShnADzl2PFuPbHpiEqyk3Xz3EIZJgDgBJPzUzUmI5FDm4holDMAntHRO6BfratUUpxPdy8uUayPtyi8nTFGl03O1Z8rGtU/yJIaiEy88wHwhIFAQI+sq1JHz4Ded/E4pSWyAwBO7fIpuWrvHdDmyhbXUYCQoJwB8IRnttfocFOnbplfpKKsZNdx4GFLSv2KjWFJDUQuyhkA59YdatL6Q826tMyvucWZruPA49IT4zR/XBbnnSFiUc4AOHWwsUN/2HZMU/LTdM2MAtdxECYun5Kr3TVtqm/rcR0FGHGUMwDOtHT26ZF1VcpOSdDtC9maCcN3WXCPVQ5tIhJRzgA40TcQ0MNrKxWwVu9nayaco+lj0pWblqDV+xtdRwFGHOUMwKiz1uqJTUdU19ajOxaWyJ/G1kw4N8YYLSv1688VjQoErOs4wIiinAEYda+UN2jnsTZdN7NAk/PTXMdBmFpe5ldTZ59217S5jgKMKMoZgFG1r7ZNL+2u05yiDC0r9buOgzD25v8fDm0i0lDOAIyapo5e/XbjERVkJOo984rYmgkXJC89UVML0rSmgkkBiCyUMwCjord/UA+vrZSR0fsWj1N8LG8/uHDLy/zacKhF3X2DrqMAI4Z3RwAhZ63VE5uPqqG9V3cuKlFWSrzrSIgQy8py1TcY0PrDza6jACMmpOXMGHOdMWafMabCGHPfKe6/1Biz2RgzYIx570n3DRpjtgY/VoQyJ4DQeq28QbuCEwBK81Jdx0EEWTQ+W/GxMVrNemeIILGh+sTGGJ+kn0i6WtJRSRuMMSustbtPeFiVpA9I+twpPkW3tXZuqPIBGB3769r14u46zWYCAEIgKd6nheOztKaCSQGIHKEcOVskqcJae9Ba2yfpUUk3n/gAa+1ha+12SYEQ5gDgSGt3v3678Yjy0hN0CxMAECLLy3K1t7adrZwQMUJZzsZKOnLC9aPB24Yr0Riz0Riz1hjz7hFNBiDkBgNWv91QpYFBqzsXlTABACHz5ogso2eIFF5+txxnrV0g6S5JPzDGTDr5AcaYe4MFbmNDA+cbAF7y0p46HW7q0rvnFSovLdF1HESw6WPSlZMSz3pniBihLGfVkopPuF4UvG1YrLXVwT8PSnpF0rxTPOan1toF1toFubm5F5YWwIjZV9uuV8sbtHB8luYWZ7mOgwgXE2O0rMyv1fsbZS1bOSH8hbKcbZBUZoyZYIyJl3SHpGHNujTGZBljEoKX/ZKWStp95mcB8ILW7n49vumICtITdePsQtdxECWWlfrV2NGrvbXtrqMAFyxk5cxaOyDpk5JekLRH0mPW2l3GmK8aY26SJGPMQmPMUUm3SXrAGLMr+PRpkjYaY7ZJ+pOkb5w0yxOABw0GrB5dX6WBgNVdi0oU5/PymROIJMvLho6erN7PKS4IfyFbSkOSrLXPSXrupNvuP+HyBg0d7jz5ea9LmhXKbABG3qo9daps7tLtC4rlT0twHQdRpCAjUWV5qVq9v1H3XvoXpygDYYVfawGMiMqmTr1a3qCLxmVpTnGm6ziIQsvLcrX+ULN6+tnKCeGNcgbggvX2D+rxTUeVmRynG2eNcR0HUWp5mV+9AwFtPNziOgpwQShnAC7Ysztq1NLZp9suKlZCnM91HESpxROzFecznHeGsEc5A3BB9tS0aWNliy6dnKvx/hTXcRDFkuNjtWBcNuudIexRzgCct47eAf1uS7XGZCTqyml5ruMAWlbm1+6aNjW097qOApw3yhmA82Kt1VNbqtXTP6jbFhQrNoa3E7h3aXBJjdcPMHqG8MW7KYDzsrmqRXtq2nTt9HwVpLM9E7xhRmG6spLj9Fo55Qzhi3IG4Jy19fTr2R01Gp+ToiXBTacBL4iJMVpa6tfq/Q1s5YSwRTkDcM6e2V6jgUGrW+aNVYwxruMAb7O8zK/69l7tr+9wHQU4L5QzAOdkT02bdla36oqpeewCAE9aFjzv7LVyltRAeKKcARi2nv5Brdh2TPnpCVpexuFMeNPYzCRNyk3RmgrOO0N4GlY5M8b8zhjzTmMMZQ6IYit316mtu1/vmVfE7Ex42vKyXK092KTeAbZyQvgZ7rvrf0m6S9J+Y8w3jDFTQpgJgAdVNXdp7cEmLZ6Yo5LsZNdxgDNaVupXT39AmyrZygnhZ1jlzFr7krX2bknzJR2W9JIx5nVjzAeNMXGhDAjAvcGA1VNbjio9KU7XTs93HQc4q4sn5Sg2xujPHNpEGBr2cQljTI6kD0j6iKQtkn6oobK2MiTJAHjG6v0Nqmvr1U1zCtk7E2EhNSFW80oytYatnBCGhnvO2VOSVktKlvQua+1N1trfWms/JSk1lAEBuHW8q09/2levGYXpmjYm3XUcYNiWlvq1vbpVx7v6XEcBzslwR85+Zq2dbq39urW2RpKMMQmSZK1dELJ0AJx7fmetJOmGWWMcJwHOzfIyv6yVXj/Q5DoKcE6GW86+dorb3hjJIAC852Bjh3ZUt+rSslxlJce7jgOckzlFmUpNiGVJDYSd2DPdaYwpkDRWUpIxZp6kN5cCT9fQIU4AEWowYPXMthplJsfp0sm5ruMA5yzWF6OLJ+Zw3hnCzhnLmaRrNTQJoEjS9064vV3SF0OUCYAHbDjcrNq2Ht25qERxPtY0Q3haXubXS3vqVNXUpZIcxhQQHs5Yzqy1D0l6yBhzq7X2yVHKBMCxrr4Brdxdp4n+FM0sZBIAwtey4E4WayoadVdOieM0wPCc7bDm+6y1v5I03hjzDyffb6393imeBiDMvbSnTj39g7pxdqEMG5sjjE30p2hMRqLWVDTorsWUM4SHsx3WTAn+yXIZQJSobe3RuoPNWjwxWwUZia7jABfEGKNlpX69uLtOgwErXwy/bMD7znZY84Hgn/86OnEAuGSt1TPbjykxzqerprETACLDsjK/Ht90VLuOtWp2UabrOMBZDXcR2m8ZY9KNMXHGmFXGmAZjzPtCHQ7A6Cqva9fBxk5dNS1PyfFnG1gHwsPS0qHzzlYzaxNhYrhTsK6x1rZJulFDe2uWSvp8qEIBGH0Ba/XHXbXKSYnXogk5ruMAI8afmqBpY9JZUgNhY7jl7M1fod8p6XFrbWuI8gBwZEvVcdW19eqaGQWcl4OIs7zMr02VLeruG3QdBTir4ZazZ4wxeyVdJGmVMSZXUk/oYgEYTf2DAb20p05FWUksnYGItLTUr77BgNYfbnYdBTirYZUza+19kpZIWmCt7ZfUKenmUAYDMHpeP9Ck1u5+XTezgKUzEJEWjc9WvC9Ga/Y3uI4CnNW5nPE7VUPrnZ34nF+OcB4Ao6yrd0CvltdrSn6aJvpZNQeRKSnepwXjs5gUgLAw3NmaD0v6jqRlkhYGPxaEMBeAUfJKeYN6+wO6dmaB6yhASC0t9Wtvbbsa2ntdRwHOaLgjZwskTbfW2lCGATC6Wjr79MbBJs0vyVJBOgvOIrItL/Pr2y/s0+sHGnXz3LGu4wCnNdwJATsl8Ws1EGFW7qmTkXTVdBacReSbUZihzOQ4Dm3C84Y7cuaXtNsYs17SW+PB1tqbQpIKQMjVtfVo25HjWl7mV0ZSnOs4QMj5YoyWTvJrzf5GWWuZ/ALPGm45+5dQhgAw+l7eW6+42BhdWpbrOgowapaW+vXsjhodaOhUaR4TYOBNw11K41UN7QwQF7y8QdLmEOYCEEJ1bT3aWd2qJRNzlJzANk2IHsvLhrZyYkkNeNlwZ2v+jaQnJD0QvGmspN+HKBOAEHt5b73iY2O0LLjnIBAtirOTNS4nWWsqOO8M3jXcCQGfkLRUUpskWWv3S8oLVSgAoVMbHDW7ZBKjZohOS0v9WnuwWf2DAddRgFMabjnrtdb2vXkluBAty2oAYejlPXWMmiGqLS/1q6N3QNuOHHcdBTil4ZazV40xX5SUZIy5WtLjkv4QulgAQqG2tUc7j7VpyaQcJcczaobotGSSX8aIJTXgWcMtZ/dJapC0Q9JHJT0n6cuhCgUgNFbtrVNCbIyWMmqGKJaRHKfZYzP0Z847g0cN61dna23AGPN7Sb+31jLFBQhDNa3d2nWsTVdMyWPUDFFvWZlf//3qQbX39CstkXX+4C1nHDkzQ/7FGNMoaZ+kfcaYBmPM/aMTD8BIeXlvvRLjONcMkKRlpbkaDFitPdjsOgrwF852WPPvNTRLc6G1Nttamy1psaSlxpi/D3k6ACPizVGzJZP8Sor3uY4DODd/XKaS4nysdwZPOls5+2tJd1prD715g7X2oKT3SXp/KIMBGDmr9gyNmi2dxKgZIEkJsT4tmpDNemfwpLOVszhr7V/8zw2ed8ZBeiAMHDverd01bVrKqBnwNsvL/DrQ0Kma1m7XUYC3OVs56zvP+wB4xJvnmi1h1Ax4mzdnLbOkBrzmbOVsjjGm7RQf7ZJmjUZAAOfvrVGzUkbNgJNNLUiTPzWBJTXgOWecT2+t5d0cCGOr9nKuGXA6xhgtK83RmopGBQJWMTHGdSRA0vAXoQUQZqqPd2tPTZuWlfqVGMfvWcCpLC31q7GjT3tr211HAd5COQMi1Mt76pQU5+NcM+AMlpflShKHNuEplDMgAlW3dGtPbbuWMmoGnFFBRqJK81K1mnIGD6GcARFo1d43R81yXEcBPG9ZqV/rDzWpp3/QdRRAEuUMiDhHW7q0t7Zdy8oYNQOGY1mpXz39AW2ubHEdBZBEOQMizqo99UqK8+mSiYyaAcNx8aQc+WIMuwXAMyhnQAQ52tKlfXXtWs6oGTBsqQmxmlecSTmDZ1DOgAiyak+9kuMZNQPO1bIyv3ZUt6qlk81v4B7lDIgQR5qDo2alfiUwagack+VlflkrvXGwyXUUgHIGRIpVe+uUHO/TxYyaAedsdlGmUhNi2WcTnkA5AyJAVXOXyus6tLwsl1Ez4DzE+WJ08cQcralocB0FoJwBkeDlt0bNsl1HAcLW8jK/jjR3q6qpy3UURDnKGRDmNlW2qLyuQ5eW5SohllEz4HwtKxva6mw1o2dwjHIGhLkfrtrPuWbACJjoT9GYjESt4bwzOEY5A8LYpsoWvVbeoEvLchUfy7czcCGMMVpW6tfrB5o0GLCu4yCK8W4OhLEfvFQuf2o8o2bACFlW5ldrd792Vre6joIoRjkDwtTGw81avb9RH710EqNmwAhZWjp03hm7BcAl3tGBMPWDl/bLnxqvuy8ucR0FiBj+1ARNG5Ou1fuZFAB3Yl0HAHDuNhxu1pqKRn35ndOUHM+3McLXI+uqXEf4C/6UeL1+sEn/++fDIzYqfddifonC8DFyBoShoXPNEnT34nGuowARZ1JeqgYDVoebOl1HQZSinAFhZu3BJv25okkfv3ySkuJZ1wwYaeNzUhQbY7S/rt11FEQpyhkQRqy1+t6L5cpPT9DdHCYBQiI+Nkbj/Skqr+9wHQVRinIGhJHV+xu1/nCzPnlFqRLZQxMImcl5qWpo79Xxrj7XURCFKGdAmLDW6rsryzU2M0l/tbDYdRwgopXlp0mS9tcxeobRRzkDwsTLe+u17chxfeodpeyhCYRYXlqCMpLiVF7PeWcYfSEtZ8aY64wx+4wxFcaY+05x/6XGmM3GmAFjzHtPuu8eY8z+4Mc9ocwJeJ21Vt9bWa6S7GTdelGR6zhAxDPGqCwvVQcaOtjKCaMuZOXMGOOT9BNJ10uaLulOY8z0kx5WJekDkh456bnZkr4iabGkRZK+YozJClVWwOte2FWrXcfa9OkryxTnY8AbGA1l+Wnq6Q/oaEuX6yiIMqF8l18kqcJae9Ba2yfpUUk3n/gAa+1ha+12SYGTnnutpJXW2mZrbYuklZKuC2FWwLMGA0OjZhNzU/TueWNdxwGiRmluqoykcpbUwCgLZTkbK+nICdePBm8L9XOBiPLM9mMqr+vQZ66aLF+McR0HiBpJ8T4VZydrP0tqYJSF9fERY8y9xpiNxpiNDQ3sg4bIMzAY0A9f2q8p+Wm6cdYY13GAqFOWn6rqlm519g64joIoEspyVi3pxPn+RcHbRuy51tqfWmsXWGsX5ObmnndQwKse23hUBxs79dlrJiuGUTNg1E3OS5OVVMHoGUZRKMvZBkllxpgJxph4SXdIWjHM574g6RpjTFZwIsA1wduAqNHVN6AfvFSuBeOydPX0fNdxgKg0NitJSXE+7WdJDYyikJUza+2ApE9qqFTtkfSYtXaXMearxpibJMkYs9AYc1TSbZIeMMbsCj63WdK/aajgbZD01eBtQNT4nz8fVn17r+67fqqMYdQMcCHGGJXmpWp/XYesZUkNjI7YUH5ya+1zkp476bb7T7i8QUOHLE/13F9I+kUo8wFe1dzZp/9+5YCunp6vBeOzXccBotrk/DTtqG5VbVuPxmQkuY6DKBDWEwKASPWTP1Wos29A/3jtFNdRgKhXlpcqSSpnKyeMEsoZ4DFHmrv08BuVuu2i4rf29wPgTnpSnArSE7Wf9c4wSihngMd8f2W5jJE+c3WZ6ygAgsryU1XZ1KXegUHXURAFKGeAh+w+1qantlbrg0sncG4L4CGT89M0aK0ONnS6joIoQDkDPOSbf9yr9MQ4ffzySa6jADjBuOxkxfti2MoJo4JyBnjEK/vq9Wp5gz55RakykuJcxwFwglhfjCblpWpfXTtLaiDkKGeAB/QPBvRvz+zWBH+K7lky3nUcAKcwJT9Nx7v6Vd/e6zoKIhzlDPCAX75RqQMNnfryO6cpPpZvS8CLphQMzZ7eV8uhTYQWPwUAx5o6evWDl8p16eRcvWNqnus4AE4jI7ikxj7OO0OIUc4Ax767slzdfYO6/8ZpbNMEeNyUgjRVNnWqp58lNRA6lDPAoV3HWvWb9VV6/yXjVZrHgrOA103JT1PASvvr2S0AoUM5Axyx1upf/7BbWcnx+vSVLDgLhIPi7GQlxsWonPPOEEKUM8CR53bUav2hZn32msnKSGbpDCAc+GKMyvLStK+uXQGW1ECIUM4AB7r7BvUfz+3R1II03bGwxHUcAOdgakGaOnoHVHO8x3UURCjKGeDAD1aVq/p4t/71phnyxTAJAAgnZflpMpL21bW5joIIRTkDRtnuY216cPUh3b6gWIsn5riOA+AcpSbEqigrifXOEDKUM2AUDQasvvDUDmUlx+kLN0x1HQfAeZpckKajLd3q6B1wHQURiHIGjKKH3zisbUeO659vnK7M5HjXcQCcpyn5abKS9rMgLUKAcgaMkprWbn37hX1aXubXTXMKXccBcAEKM5OUmhDLbgEICcoZMEq+8vQuDVqrf3/3LHYCAMJcjDGanJ+m/XUdGgywpAZGFuUMGAUv7KrVi7vr9OkrJ6skJ9l1HAAjYEpBmrr7B3Wkuct1FEQYyhkQYu09/frK07s0tSBNH1k+wXUcACOkLC9VMUYc2sSIo5wBIfbVP+xWfXuPvn7LLMX5+JYDIkVinE/jc1K0p4b1zjCy+EkBhNCLu2r1+Kaj+tvLSzWvJMt1HAAjbNqYdNW396qpo9d1FEQQyhkQIo0dvfrC73Zo+ph0/R0bmwMRadqYdEnSHhakxQiinAEhYK3VF363Q+09A/r+7XMVH8u3GhCJslPilZ+ewKFNjCh+YgAh8OTmaq3cXafPXTtZUwrSXMcBEELTCtJV2dSprj52C8DIoJwBI+xoS5f+ZcUuLZqQrQ8vm+g6DoAQmzYmXQErlTNrEyOEcgaMoEDA6nOPb5O1Vt+9bY58MSw2C0S6sVlJSkuI1e4ayhlGBuUMGEEPvHZQaw826/53TVdxNovNAtEgxhhNHZOm/XXtGhgMuI6DCEA5A0bIxsPN+s6L+/TOWWP0VwuKXccBMIqmFaSrdyCgQ42drqMgAlDOgBHQ0tmnT/1mi4qykvT1W9k7E4g2k/JSFecz2s2sTYwAyhlwgQIBq88+vk1NHX36yV3zlZ4Y5zoSgFEW54tRWV6a9ta2y1o2QseFoZwBF+jBNQf18t56ffnGaZo5NsN1HACOTBuTptbuftW09riOgjBHOQMuwKbKFn3zj/t0w6wC/fXF41zHAeDQlIJ0GYkFaXHBKGfAeWrp7NOnHtmssZlJ+satsznPDIhyqQmxKslOppzhglHOgPMwMBjQp36zRY0dffrxXfM4zwyApKEFaY+19uh4V5/rKAhjlDPgPHzt2T1aU9Gor71npmYXZbqOA8Ajpo4Z2q5tLxuh4wJQzoBz9Oj6Kv3v64f14WUTWM8MwNvkpSXKnxrPkhq4IJQz4BxsONysf356py6dnKsvXD/VdRwAHjSjMEMHGzrU1ctG6Dg/lDNgmKqPd+tjD29ScVay/vPOeYr18e0D4C/NKBzaCH1PLaNnOD/8dAGGoatvQB95aKP6BgP62T0LlJHEBAAApzY2M0mZyXHaWU05w/mhnAFnEQhYffaxbdpX26Yf3TlPk3JTXUcC4GHGGM0szFBFQ4d6+gddx0EYinUdAAiVR9ZVjcjnWbW3Tqv21Ov6mQWqOd4zYp8XQOSaUZiuNRWN2lvbprnFWa7jIMwwcgacwc7qVq3aU6/5JZlaVup3HQdAmCjOTlZ6YiyHNnFeKGfAadS0duvxTUdUnJWkm+eOZQcAAMMWY4ymF2Zof327+gYCruMgzFDOgFPo6B3Qw2srlRTn090Xj1McMzMBnKOZhenqH7TaV8eCtDg3/MQBTjIQCOiRdZXq6BnQ+y4ex9ZMAM7LeH+KUuJ92lnd6joKwgzlDDiBtVZ/2HZMh5u6dOtFRSrKSnYdCUCYGjq0ma59de3M2sQ5oZwBJ1h7qFkbDrfo8sm5msOemQAu0MzCDPUNBLR6f6PrKAgjlDMg6EBDh57dfkxTC9J01fR813EARICJualKivPp+R01rqMgjFDOAElNHb16ZF2V/KkJ+qsFxYphZiaAEeCLMZo2Jk0r99QxaxPDRjlD1OvpH9TDayslSe+/ZLwS43yOEwGIJDMLM9TeM6DXD3BoE8NDOUNUC1irxzYeUWNHr+5aXKLslHjXkQBEmNK8VKUmxOr5HbWuoyBMUM4Q1VburtPe2nbdOLuQPTMBhESsL0ZXTcvTH3fVcmgTw0I5Q9TaduS4Xi1v0KLx2Vo8Idt1HAAR7Ka5hWrt7tfq/Q2uoyAMUM4QlY62dOnJzUc1PidFN84Zw9ZMAEJqWWmuMpPj9PTWY66jIAxQzhB12nv69au1lUpLjNVdi0sUG8O3AYDQio+N0Q2zxmjl7jp19Q24jgOP46cSosrQ1kxV6u4f1PsuHqfUhFjXkQBEiZvnFKq7f1Ard9e5jgKPo5whqjy7vUaVzV26dX6RxmQkuY4DIIosHJ+tMRmJWsGhTZwF5QxRY+PhZq071KxLy/yazdZMAEZZTIzRu+YU6tXyBrV09rmOAw+jnCEqHGnu0tPbjqk0L1XXzChwHQdAlLppTqEGAlbP72TNM5we5QwRr72nX79eV6n0xFjdsZCtmQC4M6MwXRNzU/T01mrXUeBhlDNEtMGA1SPr/28CQHI8EwAAuGOM0c1zxmr94WbVtHa7jgOPopwhov1xZ40qm7p0yzwmAADwhpvmFspa6ZltNa6jwKMoZ4hYu4616s8HmnTJxBzNKc50HQcAJEkT/CmaXZShFduYtYlTo5whIlU2derJzUdVlJWk62cyAQCAt9w0p1A7qlt1oKHDdRR4EOUMEaenf1CfeGSzJOnOhSWK9fHfHIC3vGtOoYwRa57hlPiphYjztWd3a2d1m267qFhZKfGu4wDAX8hPT9TFE3K0YtsxWWtdx4HHUM4QUZ7eWq1fra3SRy+dqGlj0l3HAYDTumX+WB1q7NSmyhbXUeAxlDNEjAMNHfri73Zowbgsfe7aKa7jAMAZ3TBrjJLjfXps4xHXUeAxlDNEhN6BQf3db7YoPjZG/3nXPMVxnhkAj0tJiNWNs8fo2e016uwdcB0HHsJPMESE77ywT7uOtelb753DemYAwsZtC4rV2Teo53aw5hn+D+UMYe+18gb9bPUhve/iEl09Pd91HAAYtgXjsjTBn6LHNx11HQUeQjlDWGvq6NVnH9+msrxUfemG6a7jAMA5McbovRcVaf2hZh1u7HQdBx4R0nJmjLnOGLPPGFNhjLnvFPcnGGN+G7x/nTFmfPD28caYbmPM1uDHf4cyJ8KTtVb/+MR2tXb160d3zlNSvM91JAA4Z7fOL1KMkZ5g9AxBIStnxhifpJ9Iul7SdEl3GmNOHtr4sKQWa22ppO9L+uYJ9x2w1s4NfnwsVDkRvh5eW6lVe+t13/VTWTYDQNgqyEjUpZNz9eTmoxoMsOYZQjtytkhShbX2oLW2T9Kjkm4+6TE3S3ooePkJSVcaY0wIMyFC7Ktt178/u0eXT8nVB5eOdx0HAC7IbRcVq6a1R2sqGl1HgQeEspyNlXTi4i1Hg7ed8jHW2gFJrZJygvdNMMZsMca8aoxZfqovYIy51xiz0RizsaGhYWTTw7P6BgL6zG+3KjUhVt9+7xzR5wGEu6um5ykzOU6Ps+YZ5N0JATWSSqy18yT9g6RHjDF/cdzKWvtTa+0Ca+2C3NzcUQ8JN360ar/21LTp67fMUm5agus4AHDBEmJ9evfcsXpxV52Od/W5jgPHQlnOqiUVn3C9KHjbKR9jjImVlCGpyVrba61tkiRr7SZJByRNDmFWhIktVS36r1cqdOv8Il0zo8B1HAAYMbctKFLfYEArtrEZerQLZTnbIKnMGDPBGBMv6Q5JK056zApJ9wQvv1fSy9Zaa4zJDU4okDFmoqQySQdDmBVhoLtvUJ99bJsK0hP1lZtYNgNAZJlRmKHpY9LZzgmhK2fBc8g+KekFSXskPWat3WWM+aox5qbgw34uKccYU6Ghw5dvLrdxqaTtxpitGpoo8DFrbXOosiI8fPOPe3WwsVPfvm2O0hPjXMcBgBF3+8Ji7axu046jra6jwKHYUH5ya+1zkp476bb7T7jcI+m2UzzvSUlPhjIbwsvrFY3639cP655Lxmlpqd91HAAIiffMH6tvPL9Xv15XqW8UzXYdB454dUIA8Ja2nn59/ontmuBP0X3XT3MdBwBCJj0xTjfPLdTTW4+praffdRw4QjmD5/37M3tU09qt7/7VHHYBABDx7l48Tt39g3pq88lz6BAtKGfwtNX7G/TbjUd076WTNL8ky3UcAAi5WUUZmlOUoV+trZS17BgQjShn8KyO3gHd9+QOTcxN0WeuKnMdBwBGzd2Lx2l/fYc2HG5xHQUOUM7gWd/6414da+3Wt26drcQ4DmcCiB7vmlOo9MRYPfTGYddR4ADlDJ607mCTfvlGpT6wZLwWjM92HQcARlVSvE+3LyzWH3fWqra1x3UcjDLKGTynu29Q//TkdhVnJ+nz105xHQcAnHj/JeMVsFa/XlfpOgpGGeUMnvO9lft0uKlL37xltpLjQ7oUHwB4VnF2sq6alq9H1lWpp3/QdRyMIsoZPGVzVYt+vuaQ7lpcoiUsNgsgyn1wyXg1dfbpme01rqNgFFHO4Bm9A4P6xye2Kz89UV+4fqrrOADg3CWTcjQ5P1X/8+dDLKsRRShn8Iz/XFWhivoO/ccts5TG3pkAIGOMPrBkgnYda9P6Q2wxHS0oZ/CEndWt+n+vHtCt84t0xZQ813EAwDNumT9W2Snx+tnqg66jYJRQzuBc/2BA//jEdmWnxOufb2TvTAA4UWKcT++/ZJxe2lOvivoO13EwCihncO6BVw9od02bvvbumcpMjncdBwA8568vHqeE2Bj9fA2jZ9GAcganyuva9aNVFbpx9hhdO6PAdRwA8KSc1ATdelGRntxcrYb2XtdxEGKUMzgzGLD6/BPblZoYq3+9aYbrOADgaR9eNkH9gwH9ki2dIh7lDM78Ys0hbTtyXP9y0wzlpCa4jgMAnjYpN1XXTM/XQ68fVntPv+s4CCHKGZw42NCh77y4T1dNy9e7Zo9xHQcAwsInrihVW8+AfrW2ynUUhBDlDKMuELD6pye3KyE2Rv/xnpkyxriOBABhYXZRppaX+fXzNQfZ0imCUc4w6h5647A2HG7R/e+aobz0RNdxACCsfOKKUjV29Om3G464joIQoZxhVFU2deqbf9yry6fk6tb5Y13HAYCws3hCthaMy9IDrx5Q30DAdRyEAOUMoyYQsPrHJ7YrLiZGX79lFoczAeA8GGP0iXeU6lhrj57YdNR1HIQA5Qyj5tfrKrXuULO+fOM0jclIch0HAMLW5ZNzNbc4Uz9+eb96Bzj3LNJQzjAqjjR36evP79XyMr/+akGx6zgAENaMMfrsNZN1rLVHj3HuWcShnCHkrLX6wu92yEj6xq2zOZwJACNgWalfC8dn6cd/qmDmZoShnCHkHt1wRGsqGvWFG6ZpbCaHMwFgJBhj9PdXT1ZdW68eWce6Z5GEcoaQOna8W//+7B5dMjFHdy0qcR0HACLKkkl+XTIxR//1SoU6egdcx8EIoZwhZN48nDkYsPrmrbMVE8PhTAAYaf90/VQ1dvTpZ68ddB0FI4RyhpB5fNNRvVreoH+6bopKcpJdxwGAiDS3OFM3zCrQz1YfVEN7r+s4GAGUM4TEkeYuffUPu7V4Qrbef8l413EAIKJ9/tqp6h0I6Eer9ruOghFAOcOIGwxYffaxbZKk7/7VHA5nAkCITfCn6M5FxfrN+iodbOhwHQcXiHKGEffg6oNaf7hZ/3rTDBVlcTgTAEbDp6+crMQ4n/7juT2uo+ACUc4wovbUtOm7L5bruhkFuoW9MwFg1OSmJehT7yjVS3vq9Wp5g+s4uACUM4yY3oFB/f1vtyo9KU7/wd6ZADDqPrB0vMbnJOvfntmt/kE2RQ9XlDOMmO+9WK69te361ntnKTsl3nUcAIg6CbE+ffmd01VR36GH36h0HQfniXKGEbHuYJN+uvqg7lpcondMzXcdBwCi1pXT8rS8zK/vv1Su+vYe13FwHihnuGDNnX369KNbNS47WV+6YZrrOAAQ1Ywx+urNM9U7ENDXnmFyQDiinOGCWGv1uce3qbmzTz++a75SEmJdRwKAqDfBn6K/vXySVmw7pteYHBB2KGe4ID9fc0gv763XF2+YqpljM1zHAQAEfeyySZrgT9E/P71TPf2DruPgHFDOcN62Hjmubzy/V9dMz9c9S8a7jgMAOEFinE9fe/dMVTZ16QcvsXNAOKGc4by0dvfrk49sVn56or793jksmwEAHrS01K+/WlCkn752QNuOHHcdB8NEOcM5s9bqvie3q7a1R/951zxlJMe5jgQAOI0v3zhd+emJ+tzj2zi8GSYoZzhnD6+t1PM7a/X5a6dofkmW6zgAgDNIT4zT12+Zpf31HfohG6OHBcoZzsm6g0366h926x1T8/Q3yye6jgMAGIbLp+Tp9gXFeuDVA1p/qNl1HJwF5QzDdrSlSx//9WaV5CTrB3fMVUwM55kBQLj453dNV3F2sj7z6Ba1dvW7joMzoJxhWLr6BvQ3v9yk/sGAfvb+BUpP5DwzAAgnqQmx+uEd81Tf3qsv/n6HrLWuI+E0KGc4K2utPv/4du2tbdOP7pynSbmpriMBAM7D3OJM/cM1k/Xs9hr9dsMR13FwGpQznNVP/lShZ3fU6L7rpuqKKXmu4wAALsBHL52kZaV+3b9il3YcbXUdB6dAOcMZrdxdp++8WK53zy3UvZcyAQAAwp0vxuiHd8yVPyVeH//1Jh3v6nMdCSehnOG0th05rr/7zRbNLsrQN26dzUKzABAhclIT9F/vu0j1bb369KNbNRjg/DMvoZzhlCqbOvWh/92gnNR4PXjPAiXG+VxHAgCMoLnFmfqXm2bo1fIGff25Pa7j4ASxrgPAexo7enXPL9YrYK0e+tAi5aUluo4EAAiBuxaXqLyuXQ+uOaSJuam6a3GJ60gQ5Qwnae3u1/t/vl61bT369UcuZmYmAES4L79zmg43der+p3eqODtJy8tyXUeKehzWxFs6ewf0wf9Zr/317XrgrxfoonFszQQAkS7WF6P/vHOeSvNS9bGHN7FBugdQziBpaJHZjzy0UduOtuo/75ynyybzmxMARIu0xDg99KFFyk6N1wf+Z70q6jtcR4pqlDOos3dAH/ifDVp3qEnfvW2Orps5xnUkAMAoy09P1MMfWixfTIz++ufrVNXU5TpS1KKcRbn2nn7d84v12lTZou/fPlfvnjfWdSQAgCPj/Sn65YcWqbt/UHf89A1VNnW6jhSVKGdRrKG9V3f+bK22HDmuH90xTzfPpZgBQLSbXpiuRz5ysbr7B3X7A2t1qJGCNtooZ1GqqqlLt/3366qo79CD71+gd87mUCYAYMj0wnQ98jcXq28woNv++3XtrGabp9FEOYtCm6tadMv/e10tXf369Ucu1hVT2S8TAPB208ak67GPXqKEWJ9uf+ANrdnf6DpS1KCcRZmnt1brjp+uVXK8T09+/BKWywAAnFZpXqp+97dLVJydrA/+73o9ur7KdaSoQDmLEgODAX39+T369KNbNa84U7//xFKV5qW5jgUA8Lj89ET99qOX6JJJft33ux36ytM71T8YcB0rolHOokB9W4/uenCdHnj1oO5eXKKHP7xY2SnxrmMBAMJERlKcfnHPAv3N8gl66I1K3f3gOtW29riOFbEoZxFu1Z463fCj1dpxtFU/uH2u/v09sxQfyz87AODcxPpi9KV3TtcPbp+rndWtuv6Hr+nlvXWuY0UkfkpHqI7eAd335HZ9+KGNyk1L1IpPLmUNMwDABXv3vLH6w6eWqSAjSR/634364lM71N7T7zpWRGHj8wj00u463f/0TtW09ehjl03S319dpoRYn+tYAIAIMSk3VU/97RJ998V9+vmaQ3plb73+45ZZunwKs/9HAiNnEeRIc5c+9vAmfeSXG5WaGKsnPnaJ7rt+KsUMADDiEuN8+tI7p+uJjy9RUrxPH/ifDbr3lxt1pJltny4UI2cRoL2nX//1ygH9fM0hGUmfv3aK/mb5RM4tAwCE3PySLD336eV6cPUh/fjlCl31vVf1waUT9PHLJikjOc51vLBEOQtjHb0Deuj1w/rZ6oM63tWvW+aN1eeunaLCzCTX0QAAUSQh1qdPXFGqW+aP1bf+uE8PvHZAv15XqXuXT9T7l4xXRhIl7VxQzsJQfXuPfvVGpX65tlLHu/p15dQ8feaqyZpVlOE6GgAgio3JSNL3b5+rj142Ud95YZ++u7JcD7x2UHctLtEHloxn8GCYKGdhwlqrjZUt+s36Kj2zrUb9gYCumpavT15RqjnFma7jAQDwlqkF6XrwnoXadaxVD7x6UA+uHvq4clq+7l5comWlfsX6OPXmdChnHne4sVPPbD+mp7ZU60BDp1ITYnXHomJ9cOkETfCnuI4HAMBpzSjM0I/unKfPXztFj6yv0mMbjmjl7jrlpMTrupkFunF2oRZNyJYvxriO6imUM4/pHwxoc2WLXi1v0KvlDdp1rE2StHB8lj562STdOHuMkuP5ZwMAhI/i7GT903VT9ZmryvSnvQ16Zvsx/W5ztX69rkq5aQm6fmaBlpflatGEbM5PE+XMuf7BgPbVtmvLkeNas79Bf65oUkfvgHwxRheVZOmLN0zVjbMLOU4PAAh7CbE+XTezQNfNLFBX34Be3luvZ7bV6LGNR/TLNyoVY6RZYzN0ySS/LpmUo9ljM5QVhdsNhrScGWOuk/RDST5JD1prv3HS/QmSfinpIklNkm631h4O3vcFSR+WNCjp76y1L4Qy62ho7e7XocZOHajv0I7qVm07ely7jrWpb2BoA9mxmUl615xCXTY5V0tKc5SeyG8PAIDIlBwfqxtnF+rG2YXqHRjUlqrjev1Ak9440KgHVx/Uf796QNLQz8bphemaUZiuGYUZmpSboqKs5IheLipk5cwY45P0E0lXSzoqaYMxZoW1dvcJD/uwpBZrbakx5g5J35R0uzFmuqQ7JM2QVCjpJWPMZGvtYKjyXqhAwKqtp1+1bT2qae1RXWvP0OXjPTrU2KmDjR1q7Oh76/HJ8T7NHJuhey4ZpznFmZpTlKmirCQZw3F3AEB0SYj16eKJObp4Yo509WR19Q1oc+Vx7TrWqp3H2rTrWKte2lMna4ceH2Okwswkjc9J0bicZBVmJikvLUH56YnKS09QflqiMpLiFBOm57KFcuRskaQKa+1BSTLGPCrpZkknlrObJf1L8PITkn5shtrJzZIetdb2SjpkjKkIfr43Qpj3rL63slzNnb1q7R7Q8a4+tXX363h3v4539autp/+t/zQn8qcmaII/WVdOzdeE3BRN9KdoYm6qJvhTOAESAIBTSI6P1bIyv5aV+d+6rbN3QHtr23W4sVOVTZ063NSlyqZOPbO9Rq3df7m3Z4yR0hLjlJEUp/SkWGUkxb31kZYYp6Q4nxLjfEqKixn6M96nhFifEuNilJkcr7kOV0IIZTkbK+nICdePSlp8usdYaweMMa2ScoK3rz3puc537X5kXZUGAwFlJscrPSlOmcnxGpeToszk//sHL8hIVEF6ogoyEpWXlhjRw64AAIyWlIRYXTQuSxeNy/qL+3r6B1Xf1qu69h7VtfWorq33rUGU1uBHW8+A6to6hi5396s3eErRqZTmpeqlf7gslH+dMwrrCQHGmHsl3Ru82mGM2ecyzznyS2p0HSJK8dq7xevvDq+9I3fz2rt2Tq9/pSTz2dCFCRp3ujtCWc6qJRWfcL0oeNupHnPUGBMrKUNDEwOG81xZa38q6acjmHnUGGM2WmsXuM4RjXjt3eL1d4fX3h1ee7fC7fUP5TG3DZLKjDETjDHxGjrBf8VJj1kh6Z7g5fdKetlaa4O332GMSTDGTJBUJml9CLMCAAB4QshGzoLnkH1S0gsaWkrjF9baXcaYr0raaK1dIennkh4OnvDfrKECp+DjHtPQ5IEBSZ/w8kxNAACAkRLSc86stc9Jeu6k2+4/4XKPpNtO89x/l/TvocznWFgejo0QvPZu8fq7w2vvDq+9W2H1+ht7qvUfAAAA4ATrPAAAAHgI5cwxY8ynjDF7jTG7jDHfcp0n2hhjPmuMscYY/9kfjZFgjPl28P/8dmPMU8aYTNeZooEx5jpjzD5jTIUx5j7XeaKFMabYGPMnY8zu4Pv8p11nijbGGJ8xZosx5hnXWYaLcuaQMeYKDe2GMMdaO0PSdxxHiirGmGJJ10iqcp0lyqyUNNNaO1tSuaQvOM4T8U7YTu96SdMl3RncJg+hNyDps9ba6ZIulvQJXvtR92lJe1yHOBeUM7c+LukbwW2qZK2td5wn2nxf0j9K4sTLUWStfdFaOxC8ulZD6xgitN7aTs9a2yfpze30EGLW2hpr7ebg5XYNlQTnO95EC2NMkaR3SnrQdZZzQTlza7Kk5caYdcaYV40xC10HihbGmJslVVtrt7nOEuU+JOl51yGiwKm206MgjDJjzHhJ8yStcxwlmvxAQ7+En36vJg8K6+2bwoEx5iVJBae460saev2zNTTUvVDSY8aYiZYptCPiLK/9FzV0SBMhcKbX3lr7dPAxX9LQIZ9fj2Y2wAVjTKqkJyV9xlrb5jpPNDDG3Cip3lq7yRhzueM454RyFmLW2qtOd58x5uOSfhcsY+uNMQEN7f/VMFr5ItnpXntjzCxJEyRtM8ZIQ4fVNhtjFllra0cxYsQ60/97STLGfEDSjZKu5JeRUTGsLfEQGsaYOA0Vs19ba3/nOk8UWSrpJmPMDZISJaUbY35lrX2f41xnxTpnDhljPiap0Fp7vzFmsqRVkkr4YTW6jDGHJS2w1rIp8Sgwxlwn6XuSLrPW8ovIKAjuXVwu6UoNlbINku6y1u5yGiwKmKHfAB+S1Gyt/YzjOFErOHL2OWvtjY6jDAvnnLn1C0kTjTE7NXSC7j0UM0SBH0tKk7TSGLPVGPPfrgNFuuAEjDe309sj6TGK2ahZKumvJb0j+P99a3AkBzgtRs4AAAA8hJEzAAAAD6GcAQAAeAjlDAAAwEMoZwAAAB5COQMAAPAQyhmAiGKM+TtjzB5jzDntPGCMGW+MuWsEcyQbY541xuw1xuwyxnxjpD43gMhGOQMQaf5W0tXW2rvP8XnjJZ1zOTPG+M5w93estVM1tJ/iUmPM9ef6+QFEH8oZgIgRXNB2oqTnjTFfMsb8whiz3hizJbjZ/ZsjZKuNMZuDH0uCT/+GpOXBRUL/3hjzAWPMj0/43M+8uT+fMabDGPNdY8w2SZcYY94X/DpbjTEPGGN81toua+2fJMla2ydps4a2TQKAM6KcAYgY1tqPSTom6QpJKZJettYuCl7/tjEmRVK9hkbW5ku6XdKPgk+/T9Jqa+1ca+33z/KlUiSts9bOkdQU/DxLrbVzJQ1KetuonTEmU9K7NLRFGwCcERufA4hU12ho0+PPBa8nSirRUHn7sTFmroaK1OTz+NyDGtrIWhrar/IiSRuGtlFUkoYKoKS39rX8jaQfWWsPnsfXAhBlKGcAIpWRdKu1dt/bbjTmXyTVSZqjoaMHPad5/oDefnQh8YTLPdbawRO+zkPW2i+c5vP8VNJ+a+0Pzik9gKjFYU0AkeoFSZ8yweEsY8y84O0ZkmqstQENbUj95gn97RrakP1NhyXNNcbEGGOKJS06zddZJem9xpi84NfJNsaMC17+WvDrfWak/lIAIh/lDECk+jdJcZK2G2N2Ba9L0n9Juid4Mv9USZ3B27dLGjTGbDPG/L2kP0s6JGm3hs5L23yqL2Kt3S3py5JeNMZsl7RS0hhjTJGkL0maLmlzcLLAR0Lw9wQQYYy11nUGAAAABDFyBgAA4CGUMwAAAA+hnAEAAHgI5QwAAMBDKGcAAAAeQjkDAADwEMoZAACAh1DOAAAAPOT/A86B7Exyd6gRAAAAAElFTkSuQmCC\n",
      "text/plain": [
       "<Figure size 720x576 with 1 Axes>"
      ]
     },
     "metadata": {
      "needs_background": "light"
     },
     "output_type": "display_data"
    }
   ],
   "source": [
    "fig, ax = plt.subplots(figsize=(10, 8))\n",
    "sns.distplot(df.feature2)"
   ]
  },
  {
   "cell_type": "markdown",
   "id": "86548290-42c8-40e5-8564-a5a351b5172a",
   "metadata": {},
   "source": [
    "The data looks to be is not skewed. So, in case if data right or left skewed(long tail in some side) the mean imputation may be not the best choise."
   ]
  },
  {
   "cell_type": "markdown",
   "id": "25c3dd96-d639-437f-b46e-a5f48b286cd8",
   "metadata": {},
   "source": [
    "### Basic Data Imputatuion Techniques"
   ]
  },
  {
   "cell_type": "markdown",
   "id": "98ab3add-a477-4439-a5a2-7c8525bcd8a0",
   "metadata": {},
   "source": [
    "#### Random Constant Imputation"
   ]
  },
  {
   "cell_type": "code",
   "execution_count": 12,
   "id": "e2848c1a-0075-409c-a147-7b121383e485",
   "metadata": {},
   "outputs": [
    {
     "name": "stderr",
     "output_type": "stream",
     "text": [
      "2021-09-24 01:58:15.522 | INFO     | __main__:<module>:4 - The data will be filled with 0.8170127803095788\n"
     ]
    }
   ],
   "source": [
    "from sklearn.impute import SimpleImputer\n",
    "import random\n",
    "constant_fill_value = random.uniform(-10, 10)\n",
    "logger.info(f\"The data will be filled with {constant_fill_value}\")\n",
    "contant_imputer = SimpleImputer(missing_values=np.nan, strategy='constant', fill_value=constant_fill_value)\n",
    "\n",
    "contant_imputer.fit(df)\n",
    "filled_constant_np_data = contant_imputer.transform(df)"
   ]
  },
  {
   "cell_type": "code",
   "execution_count": 13,
   "id": "4e26dcca-5e5d-418f-9a2a-1495c3de82fe",
   "metadata": {},
   "outputs": [],
   "source": [
    "constant_filled_df = pd.DataFrame(data=filled_constant_np_data,columns=col_names)"
   ]
  },
  {
   "cell_type": "code",
   "execution_count": 14,
   "id": "690954fa-3daf-4a46-adbc-670fa1cdb5b9",
   "metadata": {},
   "outputs": [
    {
     "data": {
      "text/html": [
       "<div>\n",
       "<style scoped>\n",
       "    .dataframe tbody tr th:only-of-type {\n",
       "        vertical-align: middle;\n",
       "    }\n",
       "\n",
       "    .dataframe tbody tr th {\n",
       "        vertical-align: top;\n",
       "    }\n",
       "\n",
       "    .dataframe thead th {\n",
       "        text-align: right;\n",
       "    }\n",
       "</style>\n",
       "<table border=\"1\" class=\"dataframe\">\n",
       "  <thead>\n",
       "    <tr style=\"text-align: right;\">\n",
       "      <th></th>\n",
       "      <th>feature1</th>\n",
       "      <th>feature2</th>\n",
       "      <th>feature3</th>\n",
       "      <th>feature4</th>\n",
       "      <th>feature5</th>\n",
       "    </tr>\n",
       "  </thead>\n",
       "  <tbody>\n",
       "    <tr>\n",
       "      <th>0</th>\n",
       "      <td>1.117915</td>\n",
       "      <td>-2.065559</td>\n",
       "      <td>0.817013</td>\n",
       "      <td>-1.362986</td>\n",
       "      <td>-0.709196</td>\n",
       "    </tr>\n",
       "    <tr>\n",
       "      <th>1</th>\n",
       "      <td>-0.503055</td>\n",
       "      <td>-2.892927</td>\n",
       "      <td>0.713895</td>\n",
       "      <td>-1.631237</td>\n",
       "      <td>-1.790220</td>\n",
       "    </tr>\n",
       "    <tr>\n",
       "      <th>2</th>\n",
       "      <td>0.817013</td>\n",
       "      <td>-0.077614</td>\n",
       "      <td>0.772394</td>\n",
       "      <td>-1.500325</td>\n",
       "      <td>-0.164499</td>\n",
       "    </tr>\n",
       "    <tr>\n",
       "      <th>3</th>\n",
       "      <td>1.163245</td>\n",
       "      <td>1.046673</td>\n",
       "      <td>1.674523</td>\n",
       "      <td>-1.867193</td>\n",
       "      <td>-0.534950</td>\n",
       "    </tr>\n",
       "    <tr>\n",
       "      <th>4</th>\n",
       "      <td>0.185329</td>\n",
       "      <td>-2.824514</td>\n",
       "      <td>2.036840</td>\n",
       "      <td>-2.040093</td>\n",
       "      <td>0.817013</td>\n",
       "    </tr>\n",
       "  </tbody>\n",
       "</table>\n",
       "</div>"
      ],
      "text/plain": [
       "   feature1  feature2  feature3  feature4  feature5\n",
       "0  1.117915 -2.065559  0.817013 -1.362986 -0.709196\n",
       "1 -0.503055 -2.892927  0.713895 -1.631237 -1.790220\n",
       "2  0.817013 -0.077614  0.772394 -1.500325 -0.164499\n",
       "3  1.163245  1.046673  1.674523 -1.867193 -0.534950\n",
       "4  0.185329 -2.824514  2.036840 -2.040093  0.817013"
      ]
     },
     "execution_count": 14,
     "metadata": {},
     "output_type": "execute_result"
    }
   ],
   "source": [
    "constant_filled_df.head()"
   ]
  },
  {
   "cell_type": "markdown",
   "id": "56589799-0bb5-4e6f-8b72-45156d39446b",
   "metadata": {},
   "source": [
    "#### Mean Imputation"
   ]
  },
  {
   "cell_type": "code",
   "execution_count": 15,
   "id": "0c3d0dbb-15d9-4b1c-912b-a6359db01533",
   "metadata": {},
   "outputs": [],
   "source": [
    "mean_imputer = SimpleImputer(missing_values=np.nan, strategy='mean')\n",
    "\n",
    "mean_imputer.fit(df)\n",
    "filled_mean_np_data = mean_imputer.transform(df)\n",
    "mean_filled_df = pd.DataFrame(data=filled_mean_np_data,columns=col_names)"
   ]
  },
  {
   "cell_type": "code",
   "execution_count": 16,
   "id": "8673cad0-555c-415a-8c45-721942964626",
   "metadata": {},
   "outputs": [
    {
     "data": {
      "text/html": [
       "<div>\n",
       "<style scoped>\n",
       "    .dataframe tbody tr th:only-of-type {\n",
       "        vertical-align: middle;\n",
       "    }\n",
       "\n",
       "    .dataframe tbody tr th {\n",
       "        vertical-align: top;\n",
       "    }\n",
       "\n",
       "    .dataframe thead th {\n",
       "        text-align: right;\n",
       "    }\n",
       "</style>\n",
       "<table border=\"1\" class=\"dataframe\">\n",
       "  <thead>\n",
       "    <tr style=\"text-align: right;\">\n",
       "      <th></th>\n",
       "      <th>feature1</th>\n",
       "      <th>feature2</th>\n",
       "      <th>feature3</th>\n",
       "      <th>feature4</th>\n",
       "      <th>feature5</th>\n",
       "    </tr>\n",
       "  </thead>\n",
       "  <tbody>\n",
       "    <tr>\n",
       "      <th>0</th>\n",
       "      <td>1.117915</td>\n",
       "      <td>-2.065559</td>\n",
       "      <td>0.867845</td>\n",
       "      <td>-1.362986</td>\n",
       "      <td>-0.709196</td>\n",
       "    </tr>\n",
       "    <tr>\n",
       "      <th>1</th>\n",
       "      <td>-0.503055</td>\n",
       "      <td>-2.892927</td>\n",
       "      <td>0.713895</td>\n",
       "      <td>-1.631237</td>\n",
       "      <td>-1.790220</td>\n",
       "    </tr>\n",
       "    <tr>\n",
       "      <th>2</th>\n",
       "      <td>0.731691</td>\n",
       "      <td>-0.077614</td>\n",
       "      <td>0.772394</td>\n",
       "      <td>-1.500325</td>\n",
       "      <td>-0.164499</td>\n",
       "    </tr>\n",
       "    <tr>\n",
       "      <th>3</th>\n",
       "      <td>1.163245</td>\n",
       "      <td>1.046673</td>\n",
       "      <td>1.674523</td>\n",
       "      <td>-1.867193</td>\n",
       "      <td>-0.534950</td>\n",
       "    </tr>\n",
       "    <tr>\n",
       "      <th>4</th>\n",
       "      <td>0.185329</td>\n",
       "      <td>-2.824514</td>\n",
       "      <td>2.036840</td>\n",
       "      <td>-2.040093</td>\n",
       "      <td>0.388719</td>\n",
       "    </tr>\n",
       "  </tbody>\n",
       "</table>\n",
       "</div>"
      ],
      "text/plain": [
       "   feature1  feature2  feature3  feature4  feature5\n",
       "0  1.117915 -2.065559  0.867845 -1.362986 -0.709196\n",
       "1 -0.503055 -2.892927  0.713895 -1.631237 -1.790220\n",
       "2  0.731691 -0.077614  0.772394 -1.500325 -0.164499\n",
       "3  1.163245  1.046673  1.674523 -1.867193 -0.534950\n",
       "4  0.185329 -2.824514  2.036840 -2.040093  0.388719"
      ]
     },
     "execution_count": 16,
     "metadata": {},
     "output_type": "execute_result"
    }
   ],
   "source": [
    "mean_filled_df.head()"
   ]
  },
  {
   "cell_type": "markdown",
   "id": "cbcd2729-44d3-437f-ab7a-982b7932c02f",
   "metadata": {},
   "source": [
    "#### Median Imputation"
   ]
  },
  {
   "cell_type": "code",
   "execution_count": 17,
   "id": "e21d4f2c-7df4-4727-9b95-7d10c07521bf",
   "metadata": {},
   "outputs": [],
   "source": [
    "median_imputer = SimpleImputer(missing_values=np.nan, strategy='median')\n",
    "\n",
    "median_imputer.fit(df)\n",
    "filled_median_np_data = median_imputer.transform(df)\n",
    "median_filled_df = pd.DataFrame(data=filled_median_np_data,columns=col_names)"
   ]
  },
  {
   "cell_type": "code",
   "execution_count": 18,
   "id": "52d75b36-1258-414e-a6d6-0bd3193006e3",
   "metadata": {},
   "outputs": [
    {
     "data": {
      "text/html": [
       "<div>\n",
       "<style scoped>\n",
       "    .dataframe tbody tr th:only-of-type {\n",
       "        vertical-align: middle;\n",
       "    }\n",
       "\n",
       "    .dataframe tbody tr th {\n",
       "        vertical-align: top;\n",
       "    }\n",
       "\n",
       "    .dataframe thead th {\n",
       "        text-align: right;\n",
       "    }\n",
       "</style>\n",
       "<table border=\"1\" class=\"dataframe\">\n",
       "  <thead>\n",
       "    <tr style=\"text-align: right;\">\n",
       "      <th></th>\n",
       "      <th>feature1</th>\n",
       "      <th>feature2</th>\n",
       "      <th>feature3</th>\n",
       "      <th>feature4</th>\n",
       "      <th>feature5</th>\n",
       "    </tr>\n",
       "  </thead>\n",
       "  <tbody>\n",
       "    <tr>\n",
       "      <th>0</th>\n",
       "      <td>1.117915</td>\n",
       "      <td>-2.065559</td>\n",
       "      <td>0.946280</td>\n",
       "      <td>-1.362986</td>\n",
       "      <td>-0.709196</td>\n",
       "    </tr>\n",
       "    <tr>\n",
       "      <th>1</th>\n",
       "      <td>-0.503055</td>\n",
       "      <td>-2.892927</td>\n",
       "      <td>0.713895</td>\n",
       "      <td>-1.631237</td>\n",
       "      <td>-1.790220</td>\n",
       "    </tr>\n",
       "    <tr>\n",
       "      <th>2</th>\n",
       "      <td>0.991282</td>\n",
       "      <td>-0.077614</td>\n",
       "      <td>0.772394</td>\n",
       "      <td>-1.500325</td>\n",
       "      <td>-0.164499</td>\n",
       "    </tr>\n",
       "    <tr>\n",
       "      <th>3</th>\n",
       "      <td>1.163245</td>\n",
       "      <td>1.046673</td>\n",
       "      <td>1.674523</td>\n",
       "      <td>-1.867193</td>\n",
       "      <td>-0.534950</td>\n",
       "    </tr>\n",
       "    <tr>\n",
       "      <th>4</th>\n",
       "      <td>0.185329</td>\n",
       "      <td>-2.824514</td>\n",
       "      <td>2.036840</td>\n",
       "      <td>-2.040093</td>\n",
       "      <td>0.222050</td>\n",
       "    </tr>\n",
       "  </tbody>\n",
       "</table>\n",
       "</div>"
      ],
      "text/plain": [
       "   feature1  feature2  feature3  feature4  feature5\n",
       "0  1.117915 -2.065559  0.946280 -1.362986 -0.709196\n",
       "1 -0.503055 -2.892927  0.713895 -1.631237 -1.790220\n",
       "2  0.991282 -0.077614  0.772394 -1.500325 -0.164499\n",
       "3  1.163245  1.046673  1.674523 -1.867193 -0.534950\n",
       "4  0.185329 -2.824514  2.036840 -2.040093  0.222050"
      ]
     },
     "execution_count": 18,
     "metadata": {},
     "output_type": "execute_result"
    }
   ],
   "source": [
    "median_filled_df.head()"
   ]
  },
  {
   "cell_type": "markdown",
   "id": "0766e240-7ae0-4b4a-93cb-e89ec368dc88",
   "metadata": {},
   "source": [
    "### Advanced Data Imputatuion Techniques"
   ]
  },
  {
   "cell_type": "markdown",
   "id": "b68e5898-17d0-4de8-a6bd-6e88311b937e",
   "metadata": {},
   "source": [
    "#### EM Imputation"
   ]
  },
  {
   "cell_type": "markdown",
   "id": "4bd040aa-b6b9-4694-9e6f-d8c9f280c71c",
   "metadata": {},
   "source": [
    "#### KNN Imputation"
   ]
  },
  {
   "cell_type": "markdown",
   "id": "3fd1b76c-5c1d-4186-982b-aa62500980c3",
   "metadata": {},
   "source": [
    "Using this method the missing values will be replaced by the mean value of N nearest neighbors measured by Euclidean distance."
   ]
  },
  {
   "cell_type": "markdown",
   "id": "de135ad5-49f1-4806-8f9b-5ebf159ea381",
   "metadata": {},
   "source": [
    "! For now i'm not sure about normalization ! "
   ]
  },
  {
   "cell_type": "code",
   "execution_count": 19,
   "id": "dfc10429-971f-47e8-b014-e056ffe485a9",
   "metadata": {},
   "outputs": [
    {
     "data": {
      "text/html": [
       "<div>\n",
       "<style scoped>\n",
       "    .dataframe tbody tr th:only-of-type {\n",
       "        vertical-align: middle;\n",
       "    }\n",
       "\n",
       "    .dataframe tbody tr th {\n",
       "        vertical-align: top;\n",
       "    }\n",
       "\n",
       "    .dataframe thead th {\n",
       "        text-align: right;\n",
       "    }\n",
       "</style>\n",
       "<table border=\"1\" class=\"dataframe\">\n",
       "  <thead>\n",
       "    <tr style=\"text-align: right;\">\n",
       "      <th></th>\n",
       "      <th>feature1</th>\n",
       "      <th>feature2</th>\n",
       "      <th>feature3</th>\n",
       "      <th>feature4</th>\n",
       "      <th>feature5</th>\n",
       "    </tr>\n",
       "  </thead>\n",
       "  <tbody>\n",
       "    <tr>\n",
       "      <th>0</th>\n",
       "      <td>0.586715</td>\n",
       "      <td>0.336012</td>\n",
       "      <td>NaN</td>\n",
       "      <td>0.382951</td>\n",
       "      <td>0.314653</td>\n",
       "    </tr>\n",
       "    <tr>\n",
       "      <th>1</th>\n",
       "      <td>0.262537</td>\n",
       "      <td>0.200880</td>\n",
       "      <td>0.370833</td>\n",
       "      <td>0.307751</td>\n",
       "      <td>0.137274</td>\n",
       "    </tr>\n",
       "    <tr>\n",
       "      <th>2</th>\n",
       "      <td>NaN</td>\n",
       "      <td>0.660699</td>\n",
       "      <td>0.381194</td>\n",
       "      <td>0.344450</td>\n",
       "      <td>0.404030</td>\n",
       "    </tr>\n",
       "    <tr>\n",
       "      <th>3</th>\n",
       "      <td>0.595781</td>\n",
       "      <td>0.844326</td>\n",
       "      <td>0.540975</td>\n",
       "      <td>0.241604</td>\n",
       "      <td>0.343244</td>\n",
       "    </tr>\n",
       "    <tr>\n",
       "      <th>4</th>\n",
       "      <td>0.400207</td>\n",
       "      <td>0.212054</td>\n",
       "      <td>0.605147</td>\n",
       "      <td>0.193134</td>\n",
       "      <td>NaN</td>\n",
       "    </tr>\n",
       "  </tbody>\n",
       "</table>\n",
       "</div>"
      ],
      "text/plain": [
       "   feature1  feature2  feature3  feature4  feature5\n",
       "0  0.586715  0.336012       NaN  0.382951  0.314653\n",
       "1  0.262537  0.200880  0.370833  0.307751  0.137274\n",
       "2       NaN  0.660699  0.381194  0.344450  0.404030\n",
       "3  0.595781  0.844326  0.540975  0.241604  0.343244\n",
       "4  0.400207  0.212054  0.605147  0.193134       NaN"
      ]
     },
     "execution_count": 19,
     "metadata": {},
     "output_type": "execute_result"
    }
   ],
   "source": [
    "from sklearn.preprocessing import MinMaxScaler\n",
    "scaler = MinMaxScaler()\n",
    "df_normalized = pd.DataFrame(scaler.fit_transform(df), columns = df.columns)\n",
    "df_normalized.head()"
   ]
  },
  {
   "cell_type": "code",
   "execution_count": 20,
   "id": "6e9949dc-3395-45a5-8629-4f1cdae7245b",
   "metadata": {},
   "outputs": [
    {
     "data": {
      "text/html": [
       "<div>\n",
       "<style scoped>\n",
       "    .dataframe tbody tr th:only-of-type {\n",
       "        vertical-align: middle;\n",
       "    }\n",
       "\n",
       "    .dataframe tbody tr th {\n",
       "        vertical-align: top;\n",
       "    }\n",
       "\n",
       "    .dataframe thead th {\n",
       "        text-align: right;\n",
       "    }\n",
       "</style>\n",
       "<table border=\"1\" class=\"dataframe\">\n",
       "  <thead>\n",
       "    <tr style=\"text-align: right;\">\n",
       "      <th></th>\n",
       "      <th>feature1</th>\n",
       "      <th>feature2</th>\n",
       "      <th>feature3</th>\n",
       "      <th>feature4</th>\n",
       "      <th>feature5</th>\n",
       "    </tr>\n",
       "  </thead>\n",
       "  <tbody>\n",
       "    <tr>\n",
       "      <th>0</th>\n",
       "      <td>1.117915</td>\n",
       "      <td>-2.065559</td>\n",
       "      <td>1.973483</td>\n",
       "      <td>-1.362986</td>\n",
       "      <td>-0.709196</td>\n",
       "    </tr>\n",
       "    <tr>\n",
       "      <th>1</th>\n",
       "      <td>-0.503055</td>\n",
       "      <td>-2.892927</td>\n",
       "      <td>0.713895</td>\n",
       "      <td>-1.631237</td>\n",
       "      <td>-1.790220</td>\n",
       "    </tr>\n",
       "    <tr>\n",
       "      <th>2</th>\n",
       "      <td>1.413207</td>\n",
       "      <td>-0.077614</td>\n",
       "      <td>0.772394</td>\n",
       "      <td>-1.500325</td>\n",
       "      <td>-0.164499</td>\n",
       "    </tr>\n",
       "    <tr>\n",
       "      <th>3</th>\n",
       "      <td>1.163245</td>\n",
       "      <td>1.046673</td>\n",
       "      <td>1.674523</td>\n",
       "      <td>-1.867193</td>\n",
       "      <td>-0.534950</td>\n",
       "    </tr>\n",
       "    <tr>\n",
       "      <th>4</th>\n",
       "      <td>0.185329</td>\n",
       "      <td>-2.824514</td>\n",
       "      <td>2.036840</td>\n",
       "      <td>-2.040093</td>\n",
       "      <td>-0.709077</td>\n",
       "    </tr>\n",
       "  </tbody>\n",
       "</table>\n",
       "</div>"
      ],
      "text/plain": [
       "   feature1  feature2  feature3  feature4  feature5\n",
       "0  1.117915 -2.065559  1.973483 -1.362986 -0.709196\n",
       "1 -0.503055 -2.892927  0.713895 -1.631237 -1.790220\n",
       "2  1.413207 -0.077614  0.772394 -1.500325 -0.164499\n",
       "3  1.163245  1.046673  1.674523 -1.867193 -0.534950\n",
       "4  0.185329 -2.824514  2.036840 -2.040093 -0.709077"
      ]
     },
     "execution_count": 20,
     "metadata": {},
     "output_type": "execute_result"
    }
   ],
   "source": [
    "from sklearn.impute import KNNImputer\n",
    "knn_imputer = KNNImputer(n_neighbors=5)\n",
    "knn_filled_df = pd.DataFrame(knn_imputer.fit_transform(df),columns = df.columns)\n",
    "knn_filled_df.head()"
   ]
  },
  {
   "cell_type": "markdown",
   "id": "68907c63-d618-4f3a-aa37-9ff83579707c",
   "metadata": {},
   "source": [
    "KNN Imputation \n",
    "\n",
    "Advantages:\n",
    "- It's a great step from the simple average or median imputation\n",
    "\n",
    "Disdvantages:\n",
    "- Need to choice the K value \n",
    "- It is sensitive to outliers\n"
   ]
  },
  {
   "cell_type": "markdown",
   "id": "e858673e-85ac-4248-ba0c-7f46ca3001c2",
   "metadata": {},
   "source": [
    "#### MissForest Imputation(Random Forest imputation )"
   ]
  },
  {
   "cell_type": "code",
   "execution_count": 21,
   "id": "d7d18ef8-ed17-4e2a-86f5-a348842d3f98",
   "metadata": {},
   "outputs": [
    {
     "name": "stderr",
     "output_type": "stream",
     "text": [
      "/home/alexander/HSE_Stuff/envs/data_analysis/lib/python3.7/site-packages/sklearn/utils/deprecation.py:144: FutureWarning: The sklearn.neighbors.base module is  deprecated in version 0.22 and will be removed in version 0.24. The corresponding classes / functions should instead be imported from sklearn.neighbors. Anything that cannot be imported from sklearn.neighbors is now part of the private API.\n",
      "  warnings.warn(message, FutureWarning)\n"
     ]
    },
    {
     "name": "stdout",
     "output_type": "stream",
     "text": [
      "Iteration: 0\n",
      "Iteration: 1\n",
      "Iteration: 2\n",
      "Iteration: 3\n"
     ]
    }
   ],
   "source": [
    "from missingpy import MissForest\n",
    "random_forest_imputer = MissForest()\n",
    "df_rf_imputed = random_forest_imputer.fit_transform(df)"
   ]
  },
  {
   "cell_type": "code",
   "execution_count": 23,
   "id": "75262bc0-936e-4783-9d70-339e7a62394c",
   "metadata": {},
   "outputs": [
    {
     "data": {
      "text/html": [
       "<div>\n",
       "<style scoped>\n",
       "    .dataframe tbody tr th:only-of-type {\n",
       "        vertical-align: middle;\n",
       "    }\n",
       "\n",
       "    .dataframe tbody tr th {\n",
       "        vertical-align: top;\n",
       "    }\n",
       "\n",
       "    .dataframe thead th {\n",
       "        text-align: right;\n",
       "    }\n",
       "</style>\n",
       "<table border=\"1\" class=\"dataframe\">\n",
       "  <thead>\n",
       "    <tr style=\"text-align: right;\">\n",
       "      <th></th>\n",
       "      <th>feature1</th>\n",
       "      <th>feature2</th>\n",
       "      <th>feature3</th>\n",
       "      <th>feature4</th>\n",
       "      <th>feature5</th>\n",
       "    </tr>\n",
       "  </thead>\n",
       "  <tbody>\n",
       "    <tr>\n",
       "      <th>0</th>\n",
       "      <td>1.117915</td>\n",
       "      <td>-2.065559</td>\n",
       "      <td>2.219985</td>\n",
       "      <td>-1.362986</td>\n",
       "      <td>-0.709196</td>\n",
       "    </tr>\n",
       "    <tr>\n",
       "      <th>1</th>\n",
       "      <td>-0.503055</td>\n",
       "      <td>-2.892927</td>\n",
       "      <td>0.713895</td>\n",
       "      <td>-1.631237</td>\n",
       "      <td>-1.790220</td>\n",
       "    </tr>\n",
       "    <tr>\n",
       "      <th>2</th>\n",
       "      <td>1.046803</td>\n",
       "      <td>-0.077614</td>\n",
       "      <td>0.772394</td>\n",
       "      <td>-1.500325</td>\n",
       "      <td>-0.164499</td>\n",
       "    </tr>\n",
       "    <tr>\n",
       "      <th>3</th>\n",
       "      <td>1.163245</td>\n",
       "      <td>1.046673</td>\n",
       "      <td>1.674523</td>\n",
       "      <td>-1.867193</td>\n",
       "      <td>-0.534950</td>\n",
       "    </tr>\n",
       "    <tr>\n",
       "      <th>4</th>\n",
       "      <td>0.185329</td>\n",
       "      <td>-2.824514</td>\n",
       "      <td>2.036840</td>\n",
       "      <td>-2.040093</td>\n",
       "      <td>-1.614241</td>\n",
       "    </tr>\n",
       "  </tbody>\n",
       "</table>\n",
       "</div>"
      ],
      "text/plain": [
       "   feature1  feature2  feature3  feature4  feature5\n",
       "0  1.117915 -2.065559  2.219985 -1.362986 -0.709196\n",
       "1 -0.503055 -2.892927  0.713895 -1.631237 -1.790220\n",
       "2  1.046803 -0.077614  0.772394 -1.500325 -0.164499\n",
       "3  1.163245  1.046673  1.674523 -1.867193 -0.534950\n",
       "4  0.185329 -2.824514  2.036840 -2.040093 -1.614241"
      ]
     },
     "execution_count": 23,
     "metadata": {},
     "output_type": "execute_result"
    }
   ],
   "source": [
    "pd.DataFrame(df_rf_imputed,columns = df.columns).head()"
=======
    "![Missin Values Types](img/missing_types.jpg)"
>>>>>>> 5a07046c8bcdea27cb860cb2a14e177874525954
   ]
  },
  {
   "cell_type": "code",
<<<<<<< HEAD
   "execution_count": null,
   "id": "530a2e53-11c2-4b08-9da9-d8d9ad92a8e3",
=======
   "execution_count": 23,
   "id": "0eb7257a-0954-4cff-b8d7-6b2114adec4d",
>>>>>>> 5a07046c8bcdea27cb860cb2a14e177874525954
   "metadata": {},
   "outputs": [],
   "source": [
    "def missing_values_table(df):\n",
    "    # Total missing values\n",
    "    mis_val = df.isnull().sum()\n",
    "\n",
    "    # Percentage of missing values\n",
    "    mis_val_percent = 100 * df.isnull().sum() / len(df)\n",
    "\n",
    "    # Make a table with the results\n",
    "    mis_val_table = pd.concat([mis_val, mis_val_percent], axis=1)\n",
    "\n",
    "    # Rename the columns\n",
    "    mis_val_table_ren_columns = mis_val_table.rename(\n",
    "    columns = {0 : 'Missing Values Amount ', 1 : 'Percent of Total Values'})\n",
    "\n",
    "    # Sort the table by percentage of missing descending\n",
    "    mis_val_table_ren_columns = mis_val_table_ren_columns[\n",
    "        mis_val_table_ren_columns.iloc[:,1] != 0].sort_values(\n",
    "    'Percent of Total Values', ascending=False).round(1)\n",
    "\n",
    "    return mis_val_table_ren_columns"
   ]
  },
  {
   "cell_type": "code",
   "execution_count": 24,
   "id": "5ae0d28d-6804-4ab3-824a-b2efbeff6dac",
   "metadata": {},
   "outputs": [
    {
     "data": {
      "text/html": [
       "<div>\n",
       "<style scoped>\n",
       "    .dataframe tbody tr th:only-of-type {\n",
       "        vertical-align: middle;\n",
       "    }\n",
       "\n",
       "    .dataframe tbody tr th {\n",
       "        vertical-align: top;\n",
       "    }\n",
       "\n",
       "    .dataframe thead th {\n",
       "        text-align: right;\n",
       "    }\n",
       "</style>\n",
       "<table border=\"1\" class=\"dataframe\">\n",
       "  <thead>\n",
       "    <tr style=\"text-align: right;\">\n",
       "      <th></th>\n",
       "      <th>Missing Values Amount</th>\n",
       "      <th>Percent of Total Values</th>\n",
       "    </tr>\n",
       "  </thead>\n",
       "  <tbody>\n",
       "    <tr>\n",
       "      <th>feature1</th>\n",
       "      <td>5</td>\n",
       "      <td>10.0</td>\n",
       "    </tr>\n",
       "    <tr>\n",
       "      <th>feature3</th>\n",
       "      <td>5</td>\n",
       "      <td>10.0</td>\n",
       "    </tr>\n",
       "    <tr>\n",
       "      <th>feature5</th>\n",
       "      <td>5</td>\n",
       "      <td>10.0</td>\n",
       "    </tr>\n",
       "    <tr>\n",
       "      <th>feature2</th>\n",
       "      <td>4</td>\n",
       "      <td>8.0</td>\n",
       "    </tr>\n",
       "    <tr>\n",
       "      <th>feature4</th>\n",
       "      <td>3</td>\n",
       "      <td>6.0</td>\n",
       "    </tr>\n",
       "  </tbody>\n",
       "</table>\n",
       "</div>"
      ],
      "text/plain": [
       "          Missing Values Amount   Percent of Total Values\n",
       "feature1                       5                     10.0\n",
       "feature3                       5                     10.0\n",
       "feature5                       5                     10.0\n",
       "feature2                       4                      8.0\n",
       "feature4                       3                      6.0"
      ]
     },
     "execution_count": 24,
     "metadata": {},
     "output_type": "execute_result"
    }
   ],
   "source": [
    "missing_values_table(df)"
   ]
  },
  {
   "cell_type": "markdown",
   "id": "86ce8669-8254-4d6c-9dfd-5182de96ac10",
   "metadata": {},
   "source": [
    "#### Tools"
   ]
  },
  {
   "cell_type": "markdown",
   "id": "739aac53-d288-4474-9ea6-c5090f7b3127",
   "metadata": {},
   "source": [
    "! For better understanding of missing values patterns, we will use the [missingno](https://github.com/ResidentMario/missingno) library which allows us to get a quick visual summary of the completeness of our data."
   ]
  },
  {
   "cell_type": "markdown",
   "id": "ba059f29-2d86-4357-bb58-8da414fb3606",
   "metadata": {},
   "source": [
    "Visualization location of the missing data"
   ]
  },
  {
   "cell_type": "code",
   "execution_count": 34,
   "id": "cf47414a-1068-43de-8573-319ce9125450",
   "metadata": {},
   "outputs": [
    {
     "data": {
      "text/plain": [
       "<AxesSubplot:>"
      ]
     },
     "execution_count": 34,
     "metadata": {},
     "output_type": "execute_result"
    },
    {
     "data": {
      "image/png": "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\n",
      "text/plain": [
       "<Figure size 1800x720 with 2 Axes>"
      ]
     },
     "metadata": {
      "needs_background": "light"
     },
     "output_type": "display_data"
    }
   ],
   "source": [
    "msno.matrix(df)"
   ]
  },
  {
   "cell_type": "markdown",
   "id": "77914e40-9c31-4416-af41-b339993da216",
   "metadata": {},
   "source": [
    "Correlation of features presence. It represents how strongly the presence or absence of one variable affects the presence of another"
   ]
  },
  {
   "cell_type": "code",
   "execution_count": 27,
   "id": "558751be-4b92-4efa-8446-cc8daac24f79",
   "metadata": {},
   "outputs": [
    {
     "data": {
      "text/plain": [
       "<AxesSubplot:>"
      ]
     },
     "execution_count": 27,
     "metadata": {},
     "output_type": "execute_result"
    },
    {
     "data": {
      "image/png": "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\n",
      "text/plain": [
       "<Figure size 1440x864 with 2 Axes>"
      ]
     },
     "metadata": {
      "needs_background": "light"
     },
     "output_type": "display_data"
    }
   ],
   "source": [
    "msno.heatmap(df)"
   ]
  },
  {
   "cell_type": "markdown",
   "id": "8dfaa6a4-9d16-448f-b6e0-343c3cf3e007",
   "metadata": {},
   "source": [
    "The heatmap shows that there are no strong correlations between missing values of different features. The low correlations indicate that the data are MAR."
   ]
  },
  {
   "cell_type": "markdown",
   "id": "0bb1faac-faa1-4ccb-8aa5-e86f98c4fac5",
   "metadata": {},
   "source": [
    "The dendrogram allows you to  revealing trends deeper than the pairwise ones visible in the correlation heatmap:"
   ]
  },
  {
   "cell_type": "code",
   "execution_count": 28,
   "id": "e8bf5979-de5b-493b-8897-a820f17c8f7e",
   "metadata": {},
   "outputs": [
    {
     "data": {
      "text/plain": [
       "<AxesSubplot:>"
      ]
     },
     "execution_count": 28,
     "metadata": {},
     "output_type": "execute_result"
    },
    {
     "data": {
      "image/png": "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\n",
      "text/plain": [
       "<Figure size 1800x720 with 1 Axes>"
      ]
     },
     "metadata": {
      "needs_background": "light"
     },
     "output_type": "display_data"
    }
   ],
   "source": [
    "msno.dendrogram(df)"
   ]
  },
  {
   "cell_type": "markdown",
   "id": "94604d4b-763b-42b0-bd22-819a3ad7e857",
   "metadata": {},
   "source": [
    "As the missingno documentaion states:\n",
    ">Cluster leaves which linked together at a distance of zero fully predict one another's presence—one variable might always be empty when another is filled, or they >might always both be filled or both empty, and so on(missingno documentation)"
   ]
  },
  {
   "cell_type": "markdown",
   "id": "126a1136-628a-4a7c-ae15-1275fe977c9e",
   "metadata": {},
   "source": []
  }
 ],
 "metadata": {
  "kernelspec": {
   "display_name": "data_analysis",
   "language": "python",
   "name": "data_analysis"
  },
  "language_info": {
   "codemirror_mode": {
    "name": "ipython",
    "version": 3
   },
   "file_extension": ".py",
   "mimetype": "text/x-python",
   "name": "python",
   "nbconvert_exporter": "python",
   "pygments_lexer": "ipython3",
   "version": "3.7.5"
  }
 },
 "nbformat": 4,
 "nbformat_minor": 5
}
